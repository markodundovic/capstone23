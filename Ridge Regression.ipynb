{
 "cells": [
  {
   "cell_type": "code",
   "execution_count": 2,
   "id": "e04bcc81",
   "metadata": {},
   "outputs": [],
   "source": [
    "import numpy as np\n",
    "import pandas as pd\n",
    "import seaborn as sns\n",
    "\n",
    "import pandas as pd\n",
    "import seaborn as sns\n",
    "sns.set_palette(\"muted\")\n",
    "import matplotlib.pyplot as plt\n",
    "import numpy as np\n",
    "%matplotlib inline\n",
    "\n",
    "pd.options.display.max_rows = 200\n",
    "pd.options.display.max_columns = 200\n",
    "\n",
    "from IPython.core.interactiveshell import InteractiveShell\n",
    "InteractiveShell.ast_node_interactivity = 'all'\n",
    "import statsmodels.api as sm\n",
    "\n",
    "from sklearn.preprocessing import StandardScaler\n",
    "from sklearn.preprocessing import PolynomialFeatures\n",
    "from sklearn.model_selection import train_test_split, cross_val_score\n",
    "from sklearn.linear_model import LinearRegression\n",
    "from sklearn.linear_model import SGDRegressor\n",
    "from sklearn.metrics import mean_squared_error, r2_score\n",
    "from sklearn.pipeline import Pipeline\n",
    "from sklearn.model_selection import GridSearchCV\n",
    "\n",
    "import pandas as pd\n",
    "from sklearn.model_selection import train_test_split\n",
    "from sklearn.linear_model import Ridge\n",
    "from sklearn.preprocessing import StandardScaler\n",
    "\n",
    "import matplotlib.pyplot as plt\n",
    "\n",
    "from IPython.core.interactiveshell import InteractiveShell\n",
    "InteractiveShell.ast_node_interactivity = 'all'"
   ]
  },
  {
   "cell_type": "code",
   "execution_count": 11,
   "id": "e03fc865",
   "metadata": {},
   "outputs": [],
   "source": [
    "df = pd.read_csv('MyDataFilmsScaled.csv')"
   ]
  },
  {
   "cell_type": "code",
   "execution_count": 12,
   "id": "5d12b1c3",
   "metadata": {},
   "outputs": [
    {
     "name": "stdout",
     "output_type": "stream",
     "text": [
      "<class 'pandas.core.frame.DataFrame'>\n",
      "RangeIndex: 5117 entries, 0 to 5116\n",
      "Data columns (total 16 columns):\n",
      " #   Column                Non-Null Count  Dtype  \n",
      "---  ------                --------------  -----  \n",
      " 0   id                    5117 non-null   int64  \n",
      " 1   title                 5117 non-null   object \n",
      " 2   genres                5117 non-null   object \n",
      " 3   original_language     5117 non-null   object \n",
      " 4   overview              5116 non-null   object \n",
      " 5   popularity            5117 non-null   float64\n",
      " 6   production_companies  5117 non-null   object \n",
      " 7   release_date          5117 non-null   object \n",
      " 8   budget                5117 non-null   float64\n",
      " 9   revenue               5117 non-null   float64\n",
      " 10  runtime               5117 non-null   float64\n",
      " 11  status                5117 non-null   object \n",
      " 12  vote_average          5117 non-null   float64\n",
      " 13  vote_count            5117 non-null   float64\n",
      " 14  credits               5117 non-null   object \n",
      " 15  language              5117 non-null   int64  \n",
      "dtypes: float64(6), int64(2), object(8)\n",
      "memory usage: 639.8+ KB\n"
     ]
    }
   ],
   "source": [
    "df.info()"
   ]
  },
  {
   "cell_type": "code",
   "execution_count": 13,
   "id": "f510bca0",
   "metadata": {},
   "outputs": [],
   "source": [
    "def is_profitable(row):\n",
    "    if row['revenue'] > row['budget']*1.3:\n",
    "        return 1\n",
    "    else:\n",
    "        return 0"
   ]
  },
  {
   "cell_type": "code",
   "execution_count": 14,
   "id": "c1383348",
   "metadata": {},
   "outputs": [],
   "source": [
    "df['is_profitable'] = df.apply(is_profitable, axis=1)"
   ]
  },
  {
   "cell_type": "code",
   "execution_count": 15,
   "id": "1ff07b0d",
   "metadata": {},
   "outputs": [
    {
     "data": {
      "text/html": [
       "<div>\n",
       "<style scoped>\n",
       "    .dataframe tbody tr th:only-of-type {\n",
       "        vertical-align: middle;\n",
       "    }\n",
       "\n",
       "    .dataframe tbody tr th {\n",
       "        vertical-align: top;\n",
       "    }\n",
       "\n",
       "    .dataframe thead th {\n",
       "        text-align: right;\n",
       "    }\n",
       "</style>\n",
       "<table border=\"1\" class=\"dataframe\">\n",
       "  <thead>\n",
       "    <tr style=\"text-align: right;\">\n",
       "      <th></th>\n",
       "      <th>id</th>\n",
       "      <th>title</th>\n",
       "      <th>genres</th>\n",
       "      <th>original_language</th>\n",
       "      <th>overview</th>\n",
       "      <th>popularity</th>\n",
       "      <th>production_companies</th>\n",
       "      <th>release_date</th>\n",
       "      <th>budget</th>\n",
       "      <th>revenue</th>\n",
       "      <th>runtime</th>\n",
       "      <th>status</th>\n",
       "      <th>vote_average</th>\n",
       "      <th>vote_count</th>\n",
       "      <th>credits</th>\n",
       "      <th>language</th>\n",
       "      <th>is_profitable</th>\n",
       "    </tr>\n",
       "  </thead>\n",
       "  <tbody>\n",
       "    <tr>\n",
       "      <th>0</th>\n",
       "      <td>15660</td>\n",
       "      <td>Mommie Dearest</td>\n",
       "      <td>Drama</td>\n",
       "      <td>en</td>\n",
       "      <td>Renowned actress Joan Crawford at the height o...</td>\n",
       "      <td>10.589</td>\n",
       "      <td>Paramount-The Irwin Yablans Company</td>\n",
       "      <td>1981-09-18</td>\n",
       "      <td>19.032261</td>\n",
       "      <td>5.0</td>\n",
       "      <td>128.0</td>\n",
       "      <td>Released</td>\n",
       "      <td>6.400</td>\n",
       "      <td>166.0</td>\n",
       "      <td>Faye Dunaway-Diana Scarwid-Steve Forrest-Howar...</td>\n",
       "      <td>1</td>\n",
       "      <td>0</td>\n",
       "    </tr>\n",
       "    <tr>\n",
       "      <th>1</th>\n",
       "      <td>230266</td>\n",
       "      <td>Miss Julie</td>\n",
       "      <td>Drama</td>\n",
       "      <td>en</td>\n",
       "      <td>Over the course of a midsummer night in Ferman...</td>\n",
       "      <td>8.633</td>\n",
       "      <td>Maipo Film-The Apocalypse Films</td>\n",
       "      <td>2014-09-07</td>\n",
       "      <td>5.500000</td>\n",
       "      <td>5.0</td>\n",
       "      <td>130.0</td>\n",
       "      <td>Released</td>\n",
       "      <td>5.700</td>\n",
       "      <td>123.0</td>\n",
       "      <td>Jessica Chastain-Colin Farrell-Samantha Morton...</td>\n",
       "      <td>1</td>\n",
       "      <td>0</td>\n",
       "    </tr>\n",
       "    <tr>\n",
       "      <th>2</th>\n",
       "      <td>9322</td>\n",
       "      <td>La Femme Nikita</td>\n",
       "      <td>Action-Thriller</td>\n",
       "      <td>fr</td>\n",
       "      <td>A beautiful felon sentenced to life in prison ...</td>\n",
       "      <td>19.647</td>\n",
       "      <td>Gaumont-Cecchi Gori Group Tiger Cinematografic...</td>\n",
       "      <td>1990-02-21</td>\n",
       "      <td>8.538703</td>\n",
       "      <td>5.0</td>\n",
       "      <td>117.0</td>\n",
       "      <td>Released</td>\n",
       "      <td>7.100</td>\n",
       "      <td>1636.0</td>\n",
       "      <td>Anne Parillaud-Jean-Hugues Anglade-Tchéky Kary...</td>\n",
       "      <td>0</td>\n",
       "      <td>0</td>\n",
       "    </tr>\n",
       "    <tr>\n",
       "      <th>3</th>\n",
       "      <td>592336</td>\n",
       "      <td>Don't Stop Me Now</td>\n",
       "      <td>Comedy</td>\n",
       "      <td>it</td>\n",
       "      <td>Paola a modern woman used to the hardships of ...</td>\n",
       "      <td>8.115</td>\n",
       "      <td>Wildside-Vision Distribution</td>\n",
       "      <td>2019-04-18</td>\n",
       "      <td>8.000000</td>\n",
       "      <td>5.0</td>\n",
       "      <td>102.0</td>\n",
       "      <td>Released</td>\n",
       "      <td>6.346</td>\n",
       "      <td>331.0</td>\n",
       "      <td>Paola Cortellesi-Stefano Fresi-Vinicio Marchio...</td>\n",
       "      <td>0</td>\n",
       "      <td>0</td>\n",
       "    </tr>\n",
       "    <tr>\n",
       "      <th>4</th>\n",
       "      <td>8747</td>\n",
       "      <td>The Black Balloon</td>\n",
       "      <td>Drama</td>\n",
       "      <td>en</td>\n",
       "      <td>Thomas is turning 16. His dad's in the army an...</td>\n",
       "      <td>7.272</td>\n",
       "      <td>Black Balloon Productions</td>\n",
       "      <td>2008-03-08</td>\n",
       "      <td>5.000000</td>\n",
       "      <td>5.0</td>\n",
       "      <td>97.0</td>\n",
       "      <td>Released</td>\n",
       "      <td>6.800</td>\n",
       "      <td>65.0</td>\n",
       "      <td>Toni Collette-Rhys Wakefield-Luke Ford-Gemma W...</td>\n",
       "      <td>1</td>\n",
       "      <td>0</td>\n",
       "    </tr>\n",
       "  </tbody>\n",
       "</table>\n",
       "</div>"
      ],
      "text/plain": [
       "       id              title           genres original_language  \\\n",
       "0   15660     Mommie Dearest            Drama                en   \n",
       "1  230266         Miss Julie            Drama                en   \n",
       "2    9322    La Femme Nikita  Action-Thriller                fr   \n",
       "3  592336  Don't Stop Me Now           Comedy                it   \n",
       "4    8747  The Black Balloon            Drama                en   \n",
       "\n",
       "                                            overview  popularity  \\\n",
       "0  Renowned actress Joan Crawford at the height o...      10.589   \n",
       "1  Over the course of a midsummer night in Ferman...       8.633   \n",
       "2  A beautiful felon sentenced to life in prison ...      19.647   \n",
       "3  Paola a modern woman used to the hardships of ...       8.115   \n",
       "4  Thomas is turning 16. His dad's in the army an...       7.272   \n",
       "\n",
       "                                production_companies release_date     budget  \\\n",
       "0                Paramount-The Irwin Yablans Company   1981-09-18  19.032261   \n",
       "1                    Maipo Film-The Apocalypse Films   2014-09-07   5.500000   \n",
       "2  Gaumont-Cecchi Gori Group Tiger Cinematografic...   1990-02-21   8.538703   \n",
       "3                       Wildside-Vision Distribution   2019-04-18   8.000000   \n",
       "4                          Black Balloon Productions   2008-03-08   5.000000   \n",
       "\n",
       "   revenue  runtime    status  vote_average  vote_count  \\\n",
       "0      5.0    128.0  Released         6.400       166.0   \n",
       "1      5.0    130.0  Released         5.700       123.0   \n",
       "2      5.0    117.0  Released         7.100      1636.0   \n",
       "3      5.0    102.0  Released         6.346       331.0   \n",
       "4      5.0     97.0  Released         6.800        65.0   \n",
       "\n",
       "                                             credits  language  is_profitable  \n",
       "0  Faye Dunaway-Diana Scarwid-Steve Forrest-Howar...         1              0  \n",
       "1  Jessica Chastain-Colin Farrell-Samantha Morton...         1              0  \n",
       "2  Anne Parillaud-Jean-Hugues Anglade-Tchéky Kary...         0              0  \n",
       "3  Paola Cortellesi-Stefano Fresi-Vinicio Marchio...         0              0  \n",
       "4  Toni Collette-Rhys Wakefield-Luke Ford-Gemma W...         1              0  "
      ]
     },
     "execution_count": 15,
     "metadata": {},
     "output_type": "execute_result"
    }
   ],
   "source": [
    "df.head()"
   ]
  },
  {
   "cell_type": "code",
   "execution_count": 31,
   "id": "54ac098f",
   "metadata": {},
   "outputs": [],
   "source": [
    "#features target\n",
    "X = df[['budget','popularity','runtime']] \n",
    "y = df[['vote_average']]"
   ]
  },
  {
   "cell_type": "code",
   "execution_count": 39,
   "id": "a9bed57e",
   "metadata": {},
   "outputs": [
    {
     "data": {
      "text/plain": [
       "Ridge(alpha=500)"
      ]
     },
     "execution_count": 39,
     "metadata": {},
     "output_type": "execute_result"
    }
   ],
   "source": [
    "model = Ridge(alpha = 500)\n",
    "model"
   ]
  },
  {
   "cell_type": "code",
   "execution_count": 40,
   "id": "9114f761",
   "metadata": {},
   "outputs": [
    {
     "data": {
      "text/plain": [
       "Ridge(alpha=500)"
      ]
     },
     "execution_count": 40,
     "metadata": {},
     "output_type": "execute_result"
    }
   ],
   "source": [
    "model.fit(X,y)"
   ]
  },
  {
   "cell_type": "code",
   "execution_count": 41,
   "id": "7bde79e4",
   "metadata": {},
   "outputs": [
    {
     "data": {
      "text/plain": [
       "array([4.87980608])"
      ]
     },
     "execution_count": 41,
     "metadata": {},
     "output_type": "execute_result"
    },
    {
     "data": {
      "text/plain": [
       "array([[-0.00029061,  0.00088732,  0.01415458]])"
      ]
     },
     "execution_count": 41,
     "metadata": {},
     "output_type": "execute_result"
    }
   ],
   "source": [
    "model.intercept_\n",
    "model.coef_"
   ]
  },
  {
   "cell_type": "code",
   "execution_count": 42,
   "id": "0d409128",
   "metadata": {},
   "outputs": [
    {
     "data": {
      "text/plain": [
       "Ridge(alpha=5)"
      ]
     },
     "execution_count": 42,
     "metadata": {},
     "output_type": "execute_result"
    },
    {
     "data": {
      "text/plain": [
       "array([4.87946622])"
      ]
     },
     "execution_count": 42,
     "metadata": {},
     "output_type": "execute_result"
    },
    {
     "data": {
      "text/plain": [
       "array([[-0.00029088,  0.00088731,  0.01415771]])"
      ]
     },
     "execution_count": 42,
     "metadata": {},
     "output_type": "execute_result"
    }
   ],
   "source": [
    "model = Ridge(alpha = 5)\n",
    "model.fit(X,y)\n",
    "model.intercept_\n",
    "model.coef_"
   ]
  },
  {
   "cell_type": "code",
   "execution_count": 43,
   "id": "567b494f",
   "metadata": {},
   "outputs": [
    {
     "data": {
      "text/plain": [
       "array([5.00000000e+08, 3.87131841e+08, 2.99742125e+08, 2.32079442e+08,\n",
       "       1.79690683e+08, 1.39127970e+08, 1.07721735e+08, 8.34050269e+07,\n",
       "       6.45774833e+07, 5.00000000e+07, 3.87131841e+07, 2.99742125e+07,\n",
       "       2.32079442e+07, 1.79690683e+07, 1.39127970e+07, 1.07721735e+07,\n",
       "       8.34050269e+06, 6.45774833e+06, 5.00000000e+06, 3.87131841e+06,\n",
       "       2.99742125e+06, 2.32079442e+06, 1.79690683e+06, 1.39127970e+06,\n",
       "       1.07721735e+06, 8.34050269e+05, 6.45774833e+05, 5.00000000e+05,\n",
       "       3.87131841e+05, 2.99742125e+05, 2.32079442e+05, 1.79690683e+05,\n",
       "       1.39127970e+05, 1.07721735e+05, 8.34050269e+04, 6.45774833e+04,\n",
       "       5.00000000e+04, 3.87131841e+04, 2.99742125e+04, 2.32079442e+04,\n",
       "       1.79690683e+04, 1.39127970e+04, 1.07721735e+04, 8.34050269e+03,\n",
       "       6.45774833e+03, 5.00000000e+03, 3.87131841e+03, 2.99742125e+03,\n",
       "       2.32079442e+03, 1.79690683e+03, 1.39127970e+03, 1.07721735e+03,\n",
       "       8.34050269e+02, 6.45774833e+02, 5.00000000e+02, 3.87131841e+02,\n",
       "       2.99742125e+02, 2.32079442e+02, 1.79690683e+02, 1.39127970e+02,\n",
       "       1.07721735e+02, 8.34050269e+01, 6.45774833e+01, 5.00000000e+01,\n",
       "       3.87131841e+01, 2.99742125e+01, 2.32079442e+01, 1.79690683e+01,\n",
       "       1.39127970e+01, 1.07721735e+01, 8.34050269e+00, 6.45774833e+00,\n",
       "       5.00000000e+00, 3.87131841e+00, 2.99742125e+00, 2.32079442e+00,\n",
       "       1.79690683e+00, 1.39127970e+00, 1.07721735e+00, 8.34050269e-01,\n",
       "       6.45774833e-01, 5.00000000e-01, 3.87131841e-01, 2.99742125e-01,\n",
       "       2.32079442e-01, 1.79690683e-01, 1.39127970e-01, 1.07721735e-01,\n",
       "       8.34050269e-02, 6.45774833e-02, 5.00000000e-02, 3.87131841e-02,\n",
       "       2.99742125e-02, 2.32079442e-02, 1.79690683e-02, 1.39127970e-02,\n",
       "       1.07721735e-02, 8.34050269e-03, 6.45774833e-03, 5.00000000e-03])"
      ]
     },
     "execution_count": 43,
     "metadata": {},
     "output_type": "execute_result"
    }
   ],
   "source": [
    "alphas = 10**np.linspace(9,-2,100)*0.5\n",
    "alphas"
   ]
  },
  {
   "cell_type": "code",
   "execution_count": 44,
   "id": "c68c80b7",
   "metadata": {},
   "outputs": [
    {
     "data": {
      "text/plain": [
       "Ridge(alpha=500000000.0)"
      ]
     },
     "execution_count": 44,
     "metadata": {},
     "output_type": "execute_result"
    },
    {
     "data": {
      "text/plain": [
       "Ridge(alpha=387131841.3405639)"
      ]
     },
     "execution_count": 44,
     "metadata": {},
     "output_type": "execute_result"
    },
    {
     "data": {
      "text/plain": [
       "Ridge(alpha=299742125.15947104)"
      ]
     },
     "execution_count": 44,
     "metadata": {},
     "output_type": "execute_result"
    },
    {
     "data": {
      "text/plain": [
       "Ridge(alpha=232079441.68063864)"
      ]
     },
     "execution_count": 44,
     "metadata": {},
     "output_type": "execute_result"
    },
    {
     "data": {
      "text/plain": [
       "Ridge(alpha=179690683.1902313)"
      ]
     },
     "execution_count": 44,
     "metadata": {},
     "output_type": "execute_result"
    },
    {
     "data": {
      "text/plain": [
       "Ridge(alpha=139127970.1103563)"
      ]
     },
     "execution_count": 44,
     "metadata": {},
     "output_type": "execute_result"
    },
    {
     "data": {
      "text/plain": [
       "Ridge(alpha=107721734.50159433)"
      ]
     },
     "execution_count": 44,
     "metadata": {},
     "output_type": "execute_result"
    },
    {
     "data": {
      "text/plain": [
       "Ridge(alpha=83405026.86000279)"
      ]
     },
     "execution_count": 44,
     "metadata": {},
     "output_type": "execute_result"
    },
    {
     "data": {
      "text/plain": [
       "Ridge(alpha=64577483.250744134)"
      ]
     },
     "execution_count": 44,
     "metadata": {},
     "output_type": "execute_result"
    },
    {
     "data": {
      "text/plain": [
       "Ridge(alpha=50000000.0)"
      ]
     },
     "execution_count": 44,
     "metadata": {},
     "output_type": "execute_result"
    },
    {
     "data": {
      "text/plain": [
       "Ridge(alpha=38713184.13405639)"
      ]
     },
     "execution_count": 44,
     "metadata": {},
     "output_type": "execute_result"
    },
    {
     "data": {
      "text/plain": [
       "Ridge(alpha=29974212.515947044)"
      ]
     },
     "execution_count": 44,
     "metadata": {},
     "output_type": "execute_result"
    },
    {
     "data": {
      "text/plain": [
       "Ridge(alpha=23207944.16806391)"
      ]
     },
     "execution_count": 44,
     "metadata": {},
     "output_type": "execute_result"
    },
    {
     "data": {
      "text/plain": [
       "Ridge(alpha=17969068.31902313)"
      ]
     },
     "execution_count": 44,
     "metadata": {},
     "output_type": "execute_result"
    },
    {
     "data": {
      "text/plain": [
       "Ridge(alpha=13912797.011035629)"
      ]
     },
     "execution_count": 44,
     "metadata": {},
     "output_type": "execute_result"
    },
    {
     "data": {
      "text/plain": [
       "Ridge(alpha=10772173.450159432)"
      ]
     },
     "execution_count": 44,
     "metadata": {},
     "output_type": "execute_result"
    },
    {
     "data": {
      "text/plain": [
       "Ridge(alpha=8340502.686000296)"
      ]
     },
     "execution_count": 44,
     "metadata": {},
     "output_type": "execute_result"
    },
    {
     "data": {
      "text/plain": [
       "Ridge(alpha=6457748.325074414)"
      ]
     },
     "execution_count": 44,
     "metadata": {},
     "output_type": "execute_result"
    },
    {
     "data": {
      "text/plain": [
       "Ridge(alpha=5000000.0)"
      ]
     },
     "execution_count": 44,
     "metadata": {},
     "output_type": "execute_result"
    },
    {
     "data": {
      "text/plain": [
       "Ridge(alpha=3871318.4134056387)"
      ]
     },
     "execution_count": 44,
     "metadata": {},
     "output_type": "execute_result"
    },
    {
     "data": {
      "text/plain": [
       "Ridge(alpha=2997421.2515947046)"
      ]
     },
     "execution_count": 44,
     "metadata": {},
     "output_type": "execute_result"
    },
    {
     "data": {
      "text/plain": [
       "Ridge(alpha=2320794.416806391)"
      ]
     },
     "execution_count": 44,
     "metadata": {},
     "output_type": "execute_result"
    },
    {
     "data": {
      "text/plain": [
       "Ridge(alpha=1796906.8319023128)"
      ]
     },
     "execution_count": 44,
     "metadata": {},
     "output_type": "execute_result"
    },
    {
     "data": {
      "text/plain": [
       "Ridge(alpha=1391279.701103563)"
      ]
     },
     "execution_count": 44,
     "metadata": {},
     "output_type": "execute_result"
    },
    {
     "data": {
      "text/plain": [
       "Ridge(alpha=1077217.3450159433)"
      ]
     },
     "execution_count": 44,
     "metadata": {},
     "output_type": "execute_result"
    },
    {
     "data": {
      "text/plain": [
       "Ridge(alpha=834050.2686000295)"
      ]
     },
     "execution_count": 44,
     "metadata": {},
     "output_type": "execute_result"
    },
    {
     "data": {
      "text/plain": [
       "Ridge(alpha=645774.8325074414)"
      ]
     },
     "execution_count": 44,
     "metadata": {},
     "output_type": "execute_result"
    },
    {
     "data": {
      "text/plain": [
       "Ridge(alpha=500000.0)"
      ]
     },
     "execution_count": 44,
     "metadata": {},
     "output_type": "execute_result"
    },
    {
     "data": {
      "text/plain": [
       "Ridge(alpha=387131.8413405639)"
      ]
     },
     "execution_count": 44,
     "metadata": {},
     "output_type": "execute_result"
    },
    {
     "data": {
      "text/plain": [
       "Ridge(alpha=299742.12515947106)"
      ]
     },
     "execution_count": 44,
     "metadata": {},
     "output_type": "execute_result"
    },
    {
     "data": {
      "text/plain": [
       "Ridge(alpha=232079.4416806391)"
      ]
     },
     "execution_count": 44,
     "metadata": {},
     "output_type": "execute_result"
    },
    {
     "data": {
      "text/plain": [
       "Ridge(alpha=179690.68319023127)"
      ]
     },
     "execution_count": 44,
     "metadata": {},
     "output_type": "execute_result"
    },
    {
     "data": {
      "text/plain": [
       "Ridge(alpha=139127.97011035628)"
      ]
     },
     "execution_count": 44,
     "metadata": {},
     "output_type": "execute_result"
    },
    {
     "data": {
      "text/plain": [
       "Ridge(alpha=107721.73450159433)"
      ]
     },
     "execution_count": 44,
     "metadata": {},
     "output_type": "execute_result"
    },
    {
     "data": {
      "text/plain": [
       "Ridge(alpha=83405.02686000295)"
      ]
     },
     "execution_count": 44,
     "metadata": {},
     "output_type": "execute_result"
    },
    {
     "data": {
      "text/plain": [
       "Ridge(alpha=64577.48325074413)"
      ]
     },
     "execution_count": 44,
     "metadata": {},
     "output_type": "execute_result"
    },
    {
     "data": {
      "text/plain": [
       "Ridge(alpha=50000.0)"
      ]
     },
     "execution_count": 44,
     "metadata": {},
     "output_type": "execute_result"
    },
    {
     "data": {
      "text/plain": [
       "Ridge(alpha=38713.18413405639)"
      ]
     },
     "execution_count": 44,
     "metadata": {},
     "output_type": "execute_result"
    },
    {
     "data": {
      "text/plain": [
       "Ridge(alpha=29974.212515947045)"
      ]
     },
     "execution_count": 44,
     "metadata": {},
     "output_type": "execute_result"
    },
    {
     "data": {
      "text/plain": [
       "Ridge(alpha=23207.94416806391)"
      ]
     },
     "execution_count": 44,
     "metadata": {},
     "output_type": "execute_result"
    },
    {
     "data": {
      "text/plain": [
       "Ridge(alpha=17969.06831902313)"
      ]
     },
     "execution_count": 44,
     "metadata": {},
     "output_type": "execute_result"
    },
    {
     "data": {
      "text/plain": [
       "Ridge(alpha=13912.79701103563)"
      ]
     },
     "execution_count": 44,
     "metadata": {},
     "output_type": "execute_result"
    },
    {
     "data": {
      "text/plain": [
       "Ridge(alpha=10772.173450159433)"
      ]
     },
     "execution_count": 44,
     "metadata": {},
     "output_type": "execute_result"
    },
    {
     "data": {
      "text/plain": [
       "Ridge(alpha=8340.502686000296)"
      ]
     },
     "execution_count": 44,
     "metadata": {},
     "output_type": "execute_result"
    },
    {
     "data": {
      "text/plain": [
       "Ridge(alpha=6457.748325074427)"
      ]
     },
     "execution_count": 44,
     "metadata": {},
     "output_type": "execute_result"
    },
    {
     "data": {
      "text/plain": [
       "Ridge(alpha=5000.0)"
      ]
     },
     "execution_count": 44,
     "metadata": {},
     "output_type": "execute_result"
    },
    {
     "data": {
      "text/plain": [
       "Ridge(alpha=3871.3184134056387)"
      ]
     },
     "execution_count": 44,
     "metadata": {},
     "output_type": "execute_result"
    },
    {
     "data": {
      "text/plain": [
       "Ridge(alpha=2997.4212515947042)"
      ]
     },
     "execution_count": 44,
     "metadata": {},
     "output_type": "execute_result"
    },
    {
     "data": {
      "text/plain": [
       "Ridge(alpha=2320.794416806391)"
      ]
     },
     "execution_count": 44,
     "metadata": {},
     "output_type": "execute_result"
    },
    {
     "data": {
      "text/plain": [
       "Ridge(alpha=1796.9068319023165)"
      ]
     },
     "execution_count": 44,
     "metadata": {},
     "output_type": "execute_result"
    },
    {
     "data": {
      "text/plain": [
       "Ridge(alpha=1391.279701103563)"
      ]
     },
     "execution_count": 44,
     "metadata": {},
     "output_type": "execute_result"
    },
    {
     "data": {
      "text/plain": [
       "Ridge(alpha=1077.2173450159432)"
      ]
     },
     "execution_count": 44,
     "metadata": {},
     "output_type": "execute_result"
    },
    {
     "data": {
      "text/plain": [
       "Ridge(alpha=834.0502686000295)"
      ]
     },
     "execution_count": 44,
     "metadata": {},
     "output_type": "execute_result"
    },
    {
     "data": {
      "text/plain": [
       "Ridge(alpha=645.7748325074426)"
      ]
     },
     "execution_count": 44,
     "metadata": {},
     "output_type": "execute_result"
    },
    {
     "data": {
      "text/plain": [
       "Ridge(alpha=500.0)"
      ]
     },
     "execution_count": 44,
     "metadata": {},
     "output_type": "execute_result"
    },
    {
     "data": {
      "text/plain": [
       "Ridge(alpha=387.1318413405639)"
      ]
     },
     "execution_count": 44,
     "metadata": {},
     "output_type": "execute_result"
    },
    {
     "data": {
      "text/plain": [
       "Ridge(alpha=299.7421251594711)"
      ]
     },
     "execution_count": 44,
     "metadata": {},
     "output_type": "execute_result"
    },
    {
     "data": {
      "text/plain": [
       "Ridge(alpha=232.0794416806391)"
      ]
     },
     "execution_count": 44,
     "metadata": {},
     "output_type": "execute_result"
    },
    {
     "data": {
      "text/plain": [
       "Ridge(alpha=179.69068319023165)"
      ]
     },
     "execution_count": 44,
     "metadata": {},
     "output_type": "execute_result"
    },
    {
     "data": {
      "text/plain": [
       "Ridge(alpha=139.1279701103563)"
      ]
     },
     "execution_count": 44,
     "metadata": {},
     "output_type": "execute_result"
    },
    {
     "data": {
      "text/plain": [
       "Ridge(alpha=107.72173450159433)"
      ]
     },
     "execution_count": 44,
     "metadata": {},
     "output_type": "execute_result"
    },
    {
     "data": {
      "text/plain": [
       "Ridge(alpha=83.40502686000296)"
      ]
     },
     "execution_count": 44,
     "metadata": {},
     "output_type": "execute_result"
    },
    {
     "data": {
      "text/plain": [
       "Ridge(alpha=64.57748325074427)"
      ]
     },
     "execution_count": 44,
     "metadata": {},
     "output_type": "execute_result"
    },
    {
     "data": {
      "text/plain": [
       "Ridge(alpha=50.0)"
      ]
     },
     "execution_count": 44,
     "metadata": {},
     "output_type": "execute_result"
    },
    {
     "data": {
      "text/plain": [
       "Ridge(alpha=38.71318413405639)"
      ]
     },
     "execution_count": 44,
     "metadata": {},
     "output_type": "execute_result"
    },
    {
     "data": {
      "text/plain": [
       "Ridge(alpha=29.974212515947105)"
      ]
     },
     "execution_count": 44,
     "metadata": {},
     "output_type": "execute_result"
    },
    {
     "data": {
      "text/plain": [
       "Ridge(alpha=23.20794416806391)"
      ]
     },
     "execution_count": 44,
     "metadata": {},
     "output_type": "execute_result"
    },
    {
     "data": {
      "text/plain": [
       "Ridge(alpha=17.969068319023165)"
      ]
     },
     "execution_count": 44,
     "metadata": {},
     "output_type": "execute_result"
    },
    {
     "data": {
      "text/plain": [
       "Ridge(alpha=13.912797011035629)"
      ]
     },
     "execution_count": 44,
     "metadata": {},
     "output_type": "execute_result"
    },
    {
     "data": {
      "text/plain": [
       "Ridge(alpha=10.772173450159434)"
      ]
     },
     "execution_count": 44,
     "metadata": {},
     "output_type": "execute_result"
    },
    {
     "data": {
      "text/plain": [
       "Ridge(alpha=8.340502686000296)"
      ]
     },
     "execution_count": 44,
     "metadata": {},
     "output_type": "execute_result"
    },
    {
     "data": {
      "text/plain": [
       "Ridge(alpha=6.4577483250744265)"
      ]
     },
     "execution_count": 44,
     "metadata": {},
     "output_type": "execute_result"
    },
    {
     "data": {
      "text/plain": [
       "Ridge(alpha=5.0)"
      ]
     },
     "execution_count": 44,
     "metadata": {},
     "output_type": "execute_result"
    },
    {
     "data": {
      "text/plain": [
       "Ridge(alpha=3.8713184134056386)"
      ]
     },
     "execution_count": 44,
     "metadata": {},
     "output_type": "execute_result"
    },
    {
     "data": {
      "text/plain": [
       "Ridge(alpha=2.9974212515947105)"
      ]
     },
     "execution_count": 44,
     "metadata": {},
     "output_type": "execute_result"
    },
    {
     "data": {
      "text/plain": [
       "Ridge(alpha=2.320794416806396)"
      ]
     },
     "execution_count": 44,
     "metadata": {},
     "output_type": "execute_result"
    },
    {
     "data": {
      "text/plain": [
       "Ridge(alpha=1.796906831902313)"
      ]
     },
     "execution_count": 44,
     "metadata": {},
     "output_type": "execute_result"
    },
    {
     "data": {
      "text/plain": [
       "Ridge(alpha=1.391279701103563)"
      ]
     },
     "execution_count": 44,
     "metadata": {},
     "output_type": "execute_result"
    },
    {
     "data": {
      "text/plain": [
       "Ridge(alpha=1.0772173450159432)"
      ]
     },
     "execution_count": 44,
     "metadata": {},
     "output_type": "execute_result"
    },
    {
     "data": {
      "text/plain": [
       "Ridge(alpha=0.8340502686000313)"
      ]
     },
     "execution_count": 44,
     "metadata": {},
     "output_type": "execute_result"
    },
    {
     "data": {
      "text/plain": [
       "Ridge(alpha=0.6457748325074414)"
      ]
     },
     "execution_count": 44,
     "metadata": {},
     "output_type": "execute_result"
    },
    {
     "data": {
      "text/plain": [
       "Ridge(alpha=0.5)"
      ]
     },
     "execution_count": 44,
     "metadata": {},
     "output_type": "execute_result"
    },
    {
     "data": {
      "text/plain": [
       "Ridge(alpha=0.3871318413405639)"
      ]
     },
     "execution_count": 44,
     "metadata": {},
     "output_type": "execute_result"
    },
    {
     "data": {
      "text/plain": [
       "Ridge(alpha=0.2997421251594711)"
      ]
     },
     "execution_count": 44,
     "metadata": {},
     "output_type": "execute_result"
    },
    {
     "data": {
      "text/plain": [
       "Ridge(alpha=0.23207944168063957)"
      ]
     },
     "execution_count": 44,
     "metadata": {},
     "output_type": "execute_result"
    },
    {
     "data": {
      "text/plain": [
       "Ridge(alpha=0.1796906831902313)"
      ]
     },
     "execution_count": 44,
     "metadata": {},
     "output_type": "execute_result"
    },
    {
     "data": {
      "text/plain": [
       "Ridge(alpha=0.1391279701103563)"
      ]
     },
     "execution_count": 44,
     "metadata": {},
     "output_type": "execute_result"
    },
    {
     "data": {
      "text/plain": [
       "Ridge(alpha=0.10772173450159434)"
      ]
     },
     "execution_count": 44,
     "metadata": {},
     "output_type": "execute_result"
    },
    {
     "data": {
      "text/plain": [
       "Ridge(alpha=0.08340502686000313)"
      ]
     },
     "execution_count": 44,
     "metadata": {},
     "output_type": "execute_result"
    },
    {
     "data": {
      "text/plain": [
       "Ridge(alpha=0.0645774832507444)"
      ]
     },
     "execution_count": 44,
     "metadata": {},
     "output_type": "execute_result"
    },
    {
     "data": {
      "text/plain": [
       "Ridge(alpha=0.05)"
      ]
     },
     "execution_count": 44,
     "metadata": {},
     "output_type": "execute_result"
    },
    {
     "data": {
      "text/plain": [
       "Ridge(alpha=0.03871318413405639)"
      ]
     },
     "execution_count": 44,
     "metadata": {},
     "output_type": "execute_result"
    },
    {
     "data": {
      "text/plain": [
       "Ridge(alpha=0.029974212515947105)"
      ]
     },
     "execution_count": 44,
     "metadata": {},
     "output_type": "execute_result"
    },
    {
     "data": {
      "text/plain": [
       "Ridge(alpha=0.023207944168063956)"
      ]
     },
     "execution_count": 44,
     "metadata": {},
     "output_type": "execute_result"
    },
    {
     "data": {
      "text/plain": [
       "Ridge(alpha=0.01796906831902313)"
      ]
     },
     "execution_count": 44,
     "metadata": {},
     "output_type": "execute_result"
    },
    {
     "data": {
      "text/plain": [
       "Ridge(alpha=0.01391279701103563)"
      ]
     },
     "execution_count": 44,
     "metadata": {},
     "output_type": "execute_result"
    },
    {
     "data": {
      "text/plain": [
       "Ridge(alpha=0.010772173450159434)"
      ]
     },
     "execution_count": 44,
     "metadata": {},
     "output_type": "execute_result"
    },
    {
     "data": {
      "text/plain": [
       "Ridge(alpha=0.008340502686000313)"
      ]
     },
     "execution_count": 44,
     "metadata": {},
     "output_type": "execute_result"
    },
    {
     "data": {
      "text/plain": [
       "Ridge(alpha=0.00645774832507444)"
      ]
     },
     "execution_count": 44,
     "metadata": {},
     "output_type": "execute_result"
    },
    {
     "data": {
      "text/plain": [
       "Ridge(alpha=0.005)"
      ]
     },
     "execution_count": 44,
     "metadata": {},
     "output_type": "execute_result"
    }
   ],
   "source": [
    "coefs = []\n",
    "for alpha in alphas:\n",
    "    #fitting\n",
    "    model = Ridge(alpha = alpha)\n",
    "    model.fit(X, y)\n",
    "    #prediction on test set\n",
    "    y_pred = model.predict(X)\n",
    "    coefs.append(model.coef_[0])"
   ]
  },
  {
   "cell_type": "code",
   "execution_count": 45,
   "id": "60c075ca",
   "metadata": {},
   "outputs": [
    {
     "data": {
      "text/plain": [
       "array([5.00000000e+08, 3.87131841e+08, 2.99742125e+08, 2.32079442e+08,\n",
       "       1.79690683e+08, 1.39127970e+08, 1.07721735e+08, 8.34050269e+07,\n",
       "       6.45774833e+07, 5.00000000e+07, 3.87131841e+07, 2.99742125e+07,\n",
       "       2.32079442e+07, 1.79690683e+07, 1.39127970e+07, 1.07721735e+07,\n",
       "       8.34050269e+06, 6.45774833e+06, 5.00000000e+06, 3.87131841e+06,\n",
       "       2.99742125e+06, 2.32079442e+06, 1.79690683e+06, 1.39127970e+06,\n",
       "       1.07721735e+06, 8.34050269e+05, 6.45774833e+05, 5.00000000e+05,\n",
       "       3.87131841e+05, 2.99742125e+05, 2.32079442e+05, 1.79690683e+05,\n",
       "       1.39127970e+05, 1.07721735e+05, 8.34050269e+04, 6.45774833e+04,\n",
       "       5.00000000e+04, 3.87131841e+04, 2.99742125e+04, 2.32079442e+04,\n",
       "       1.79690683e+04, 1.39127970e+04, 1.07721735e+04, 8.34050269e+03,\n",
       "       6.45774833e+03, 5.00000000e+03, 3.87131841e+03, 2.99742125e+03,\n",
       "       2.32079442e+03, 1.79690683e+03, 1.39127970e+03, 1.07721735e+03,\n",
       "       8.34050269e+02, 6.45774833e+02, 5.00000000e+02, 3.87131841e+02,\n",
       "       2.99742125e+02, 2.32079442e+02, 1.79690683e+02, 1.39127970e+02,\n",
       "       1.07721735e+02, 8.34050269e+01, 6.45774833e+01, 5.00000000e+01,\n",
       "       3.87131841e+01, 2.99742125e+01, 2.32079442e+01, 1.79690683e+01,\n",
       "       1.39127970e+01, 1.07721735e+01, 8.34050269e+00, 6.45774833e+00,\n",
       "       5.00000000e+00, 3.87131841e+00, 2.99742125e+00, 2.32079442e+00,\n",
       "       1.79690683e+00, 1.39127970e+00, 1.07721735e+00, 8.34050269e-01,\n",
       "       6.45774833e-01, 5.00000000e-01, 3.87131841e-01, 2.99742125e-01,\n",
       "       2.32079442e-01, 1.79690683e-01, 1.39127970e-01, 1.07721735e-01,\n",
       "       8.34050269e-02, 6.45774833e-02, 5.00000000e-02, 3.87131841e-02,\n",
       "       2.99742125e-02, 2.32079442e-02, 1.79690683e-02, 1.39127970e-02,\n",
       "       1.07721735e-02, 8.34050269e-03, 6.45774833e-03, 5.00000000e-03])"
      ]
     },
     "execution_count": 45,
     "metadata": {},
     "output_type": "execute_result"
    },
    {
     "data": {
      "text/plain": [
       "[array([2.59177700e-05, 1.03319589e-04, 6.59914401e-05]),\n",
       " array([3.28943051e-05, 1.29611270e-04, 8.50505136e-05]),\n",
       " array([4.15670447e-05, 1.61407566e-04, 1.09552795e-04]),\n",
       " array([5.22515539e-05, 1.99241822e-04, 1.41016394e-04]),\n",
       " array([6.52754337e-05, 2.43395898e-04, 1.81362058e-04]),\n",
       " array([8.09566297e-05, 2.93765324e-04, 2.33008402e-04]),\n",
       " array([9.95732440e-05, 3.49738819e-04, 2.98982858e-04]),\n",
       " array([0.00012132, 0.00041013, 0.00038305]),\n",
       " array([0.00014628, 0.00047322, 0.00048982]),\n",
       " array([0.00017431, 0.00053686, 0.00062493]),\n",
       " array([0.00020503, 0.00059878, 0.00079506]),\n",
       " array([0.00023767, 0.00065681, 0.00100799]),\n",
       " array([0.00027101, 0.0007092 , 0.00127252]),\n",
       " array([0.00030328, 0.00075475, 0.00159807]),\n",
       " array([0.00033221, 0.00079293, 0.00199414]),\n",
       " array([0.00035514, 0.00082376, 0.00246929]),\n",
       " array([0.00036931, 0.00084773, 0.00302978]),\n",
       " array([0.00037229, 0.00086565, 0.00367791]),\n",
       " array([0.0003624 , 0.00087846, 0.00441031]),\n",
       " array([0.0003391 , 0.00088714, 0.00521664]),\n",
       " array([0.00030318, 0.0008926 , 0.00607916]),\n",
       " array([0.0002567 , 0.00089567, 0.00697378]),\n",
       " array([0.00020264, 0.00089702, 0.00787244]),\n",
       " array([0.00014445, 0.00089722, 0.00874649]),\n",
       " array([8.54772571e-05, 8.96703837e-04, 9.57028732e-03]),\n",
       " array([2.86188209e-05, 8.95783026e-04, 1.03240113e-02]),\n",
       " array([-2.39959829e-05,  8.94688131e-04,  1.09950909e-02]),\n",
       " array([-7.10456066e-05,  8.93567947e-04,  1.15782417e-02]),\n",
       " array([-0.00011194,  0.00089251,  0.01207437]),\n",
       " array([-0.00014667,  0.00089157,  0.01248892]),\n",
       " array([-0.00017561,  0.00089075,  0.01283011]),\n",
       " array([-0.00019935,  0.00089007,  0.01310744]),\n",
       " array([-0.00021859,  0.0008895 ,  0.0133306 ]),\n",
       " array([-0.00023403,  0.00088904,  0.01350871]),\n",
       " array([-0.00024632,  0.00088867,  0.01364993]),\n",
       " array([-0.00025605,  0.00088838,  0.01376134]),\n",
       " array([-0.00026371,  0.00088815,  0.01384885]),\n",
       " array([-0.00026972,  0.00088796,  0.01391739]),\n",
       " array([-0.00027443,  0.00088782,  0.01397093]),\n",
       " array([-0.0002781 ,  0.00088771,  0.01401266]),\n",
       " array([-0.00028096,  0.00088762,  0.01404515]),\n",
       " array([-0.00028318,  0.00088755,  0.01407041]),\n",
       " array([-0.00028491,  0.0008875 ,  0.01409003]),\n",
       " array([-0.00028625,  0.00088745,  0.01410526]),\n",
       " array([-0.0002873 ,  0.00088742,  0.01411707]),\n",
       " array([-0.0002881 ,  0.0008874 ,  0.01412623]),\n",
       " array([-0.00028873,  0.00088738,  0.01413333]),\n",
       " array([-0.00028922,  0.00088736,  0.01413883]),\n",
       " array([-0.00028959,  0.00088735,  0.0141431 ]),\n",
       " array([-0.00028988,  0.00088734,  0.0141464 ]),\n",
       " array([-0.00029011,  0.00088734,  0.01414896]),\n",
       " array([-0.00029028,  0.00088733,  0.01415094]),\n",
       " array([-0.00029042,  0.00088733,  0.01415248]),\n",
       " array([-0.00029053,  0.00088732,  0.01415366]),\n",
       " array([-0.00029061,  0.00088732,  0.01415458]),\n",
       " array([-0.00029067,  0.00088732,  0.0141553 ]),\n",
       " array([-0.00029072,  0.00088732,  0.01415585]),\n",
       " array([-0.00029076,  0.00088732,  0.01415628]),\n",
       " array([-0.00029079,  0.00088731,  0.01415661]),\n",
       " array([-0.00029081,  0.00088731,  0.01415686]),\n",
       " array([-0.00029083,  0.00088731,  0.01415706]),\n",
       " array([-0.00029084,  0.00088731,  0.01415722]),\n",
       " array([-0.00029085,  0.00088731,  0.01415733]),\n",
       " array([-0.00029086,  0.00088731,  0.01415743]),\n",
       " array([-0.00029086,  0.00088731,  0.0141575 ]),\n",
       " array([-0.00029087,  0.00088731,  0.01415755]),\n",
       " array([-0.00029087,  0.00088731,  0.0141576 ]),\n",
       " array([-0.00029088,  0.00088731,  0.01415763]),\n",
       " array([-0.00029088,  0.00088731,  0.01415765]),\n",
       " array([-0.00029088,  0.00088731,  0.01415767]),\n",
       " array([-0.00029088,  0.00088731,  0.01415769]),\n",
       " array([-0.00029088,  0.00088731,  0.0141577 ]),\n",
       " array([-0.00029088,  0.00088731,  0.01415771]),\n",
       " array([-0.00029088,  0.00088731,  0.01415772]),\n",
       " array([-0.00029088,  0.00088731,  0.01415772]),\n",
       " array([-0.00029088,  0.00088731,  0.01415773]),\n",
       " array([-0.00029088,  0.00088731,  0.01415773]),\n",
       " array([-0.00029088,  0.00088731,  0.01415773]),\n",
       " array([-0.00029088,  0.00088731,  0.01415774]),\n",
       " array([-0.00029088,  0.00088731,  0.01415774]),\n",
       " array([-0.00029088,  0.00088731,  0.01415774]),\n",
       " array([-0.00029089,  0.00088731,  0.01415774]),\n",
       " array([-0.00029089,  0.00088731,  0.01415774]),\n",
       " array([-0.00029089,  0.00088731,  0.01415774]),\n",
       " array([-0.00029089,  0.00088731,  0.01415774]),\n",
       " array([-0.00029089,  0.00088731,  0.01415774]),\n",
       " array([-0.00029089,  0.00088731,  0.01415774]),\n",
       " array([-0.00029089,  0.00088731,  0.01415774]),\n",
       " array([-0.00029089,  0.00088731,  0.01415774]),\n",
       " array([-0.00029089,  0.00088731,  0.01415774]),\n",
       " array([-0.00029089,  0.00088731,  0.01415774]),\n",
       " array([-0.00029089,  0.00088731,  0.01415774]),\n",
       " array([-0.00029089,  0.00088731,  0.01415774]),\n",
       " array([-0.00029089,  0.00088731,  0.01415774]),\n",
       " array([-0.00029089,  0.00088731,  0.01415774]),\n",
       " array([-0.00029089,  0.00088731,  0.01415774]),\n",
       " array([-0.00029089,  0.00088731,  0.01415774]),\n",
       " array([-0.00029089,  0.00088731,  0.01415774]),\n",
       " array([-0.00029089,  0.00088731,  0.01415774]),\n",
       " array([-0.00029089,  0.00088731,  0.01415774])]"
      ]
     },
     "execution_count": 45,
     "metadata": {},
     "output_type": "execute_result"
    }
   ],
   "source": [
    "alphas\n",
    "coefs"
   ]
  },
  {
   "cell_type": "code",
   "execution_count": 46,
   "id": "f5b64ee5",
   "metadata": {},
   "outputs": [
    {
     "data": {
      "image/png": "[encoded data removed]",
      "text/plain": [
       "<Figure size 432x288 with 1 Axes>"
      ]
     },
     "metadata": {
      "needs_background": "light"
     },
     "output_type": "display_data"
    }
   ],
   "source": [
    "fig, ax = plt.subplots()\n",
    "ax.plot(alphas, coefs)\n",
    "ax.set_xscale('log')\n",
    "ax.set_xlabel('alpha')\n",
    "ax.set_ylabel('weights')\n",
    "ax.set_title('Ridge coefficients as a function of the regularization');"
   ]
  },
  {
   "cell_type": "code",
   "execution_count": null,
   "id": "70fcfca8",
   "metadata": {},
   "outputs": [],
   "source": []
  },
  {
   "cell_type": "code",
   "execution_count": null,
   "id": "73ec0a87",
   "metadata": {},
   "outputs": [],
   "source": []
  },
  {
   "cell_type": "code",
   "execution_count": null,
   "id": "25b62d04",
   "metadata": {},
   "outputs": [],
   "source": []
  },
  {
   "cell_type": "code",
   "execution_count": null,
   "id": "a1df586a",
   "metadata": {},
   "outputs": [],
   "source": []
  }
 ],
 "metadata": {
  "kernelspec": {
   "display_name": "Python 3 (ipykernel)",
   "language": "python",
   "name": "python3"
  },
  "language_info": {
   "codemirror_mode": {
    "name": "ipython",
    "version": 3
   },
   "file_extension": ".py",
   "mimetype": "text/x-python",
   "name": "python",
   "nbconvert_exporter": "python",
   "pygments_lexer": "ipython3",
   "version": "3.9.7"
  }
 },
 "nbformat": 4,
 "nbformat_minor": 5
}
