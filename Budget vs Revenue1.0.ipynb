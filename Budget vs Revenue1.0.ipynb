{
 "cells": [
  {
   "cell_type": "code",
   "execution_count": 60,
   "id": "e04bcc81",
   "metadata": {},
   "outputs": [],
   "source": [
    "import numpy as np\n",
    "import pandas as pd\n",
    "import seaborn as sns\n",
    "\n",
    "import pandas as pd\n",
    "import seaborn as sns\n",
    "sns.set_palette(\"muted\")\n",
    "import matplotlib.pyplot as plt\n",
    "import numpy as np\n",
    "%matplotlib inline\n",
    "\n",
    "pd.options.display.max_rows = 200\n",
    "pd.options.display.max_columns = 200\n",
    "\n",
    "from IPython.core.interactiveshell import InteractiveShell\n",
    "InteractiveShell.ast_node_interactivity = 'all'\n",
    "import statsmodels.api as sm\n",
    "\n",
    "from sklearn.preprocessing import StandardScaler\n",
    "from sklearn.preprocessing import PolynomialFeatures\n",
    "from sklearn.model_selection import train_test_split, cross_val_score\n",
    "from sklearn.linear_model import LinearRegression\n",
    "from sklearn.linear_model import SGDRegressor\n",
    "from sklearn.metrics import mean_squared_error, r2_score\n",
    "from sklearn.pipeline import Pipeline\n",
    "from sklearn.model_selection import GridSearchCV\n",
    "\n",
    "\n",
    "import matplotlib.pyplot as plt\n",
    "\n",
    "from IPython.core.interactiveshell import InteractiveShell\n",
    "InteractiveShell.ast_node_interactivity = 'all'"
   ]
  },
  {
   "cell_type": "code",
   "execution_count": 70,
   "id": "e03fc865",
   "metadata": {},
   "outputs": [],
   "source": [
    "df = pd.read_csv('myFilmdata.csv')"
   ]
  },
  {
   "cell_type": "code",
   "execution_count": 71,
   "id": "5d12b1c3",
   "metadata": {},
   "outputs": [
    {
     "name": "stdout",
     "output_type": "stream",
     "text": [
      "<class 'pandas.core.frame.DataFrame'>\n",
      "RangeIndex: 9164 entries, 0 to 9163\n",
      "Data columns (total 15 columns):\n",
      " #   Column                Non-Null Count  Dtype  \n",
      "---  ------                --------------  -----  \n",
      " 0   id                    9164 non-null   int64  \n",
      " 1   title                 9164 non-null   object \n",
      " 2   genres                9164 non-null   object \n",
      " 3   original_language     9164 non-null   object \n",
      " 4   overview              9144 non-null   object \n",
      " 5   popularity            9164 non-null   float64\n",
      " 6   production_companies  9164 non-null   object \n",
      " 7   release_date          9164 non-null   object \n",
      " 8   budget                9164 non-null   float64\n",
      " 9   revenue               9164 non-null   float64\n",
      " 10  runtime               9164 non-null   float64\n",
      " 11  status                9164 non-null   object \n",
      " 12  vote_average          9164 non-null   float64\n",
      " 13  vote_count            9164 non-null   float64\n",
      " 14  credits               9164 non-null   object \n",
      "dtypes: float64(6), int64(1), object(8)\n",
      "memory usage: 1.0+ MB\n"
     ]
    }
   ],
   "source": [
    "df.info()"
   ]
  },
  {
   "cell_type": "code",
   "execution_count": 72,
   "id": "8b206deb",
   "metadata": {},
   "outputs": [
    {
     "data": {
      "text/html": [
       "<div>\n",
       "<style scoped>\n",
       "    .dataframe tbody tr th:only-of-type {\n",
       "        vertical-align: middle;\n",
       "    }\n",
       "\n",
       "    .dataframe tbody tr th {\n",
       "        vertical-align: top;\n",
       "    }\n",
       "\n",
       "    .dataframe thead th {\n",
       "        text-align: right;\n",
       "    }\n",
       "</style>\n",
       "<table border=\"1\" class=\"dataframe\">\n",
       "  <thead>\n",
       "    <tr style=\"text-align: right;\">\n",
       "      <th></th>\n",
       "      <th>id</th>\n",
       "      <th>title</th>\n",
       "      <th>genres</th>\n",
       "      <th>original_language</th>\n",
       "      <th>overview</th>\n",
       "      <th>popularity</th>\n",
       "      <th>production_companies</th>\n",
       "      <th>release_date</th>\n",
       "      <th>budget</th>\n",
       "      <th>revenue</th>\n",
       "      <th>runtime</th>\n",
       "      <th>status</th>\n",
       "      <th>vote_average</th>\n",
       "      <th>vote_count</th>\n",
       "      <th>credits</th>\n",
       "    </tr>\n",
       "  </thead>\n",
       "  <tbody>\n",
       "    <tr>\n",
       "      <th>0</th>\n",
       "      <td>505642</td>\n",
       "      <td>Black Panther: Wakanda Forever</td>\n",
       "      <td>Action-Adventure-Science Fiction</td>\n",
       "      <td>en</td>\n",
       "      <td>Queen Ramonda Shuri M’Baku Okoye and the Dora ...</td>\n",
       "      <td>4378.531</td>\n",
       "      <td>Marvel Studios</td>\n",
       "      <td>2022-11-09</td>\n",
       "      <td>250000000.0</td>\n",
       "      <td>8.550990e+08</td>\n",
       "      <td>162.0</td>\n",
       "      <td>Released</td>\n",
       "      <td>7.449</td>\n",
       "      <td>3340.0</td>\n",
       "      <td>Letitia Wright-Lupita Nyong'o-Danai Gurira-Win...</td>\n",
       "    </tr>\n",
       "    <tr>\n",
       "      <th>1</th>\n",
       "      <td>315162</td>\n",
       "      <td>Puss in Boots: The Last Wish</td>\n",
       "      <td>Animation-Adventure-Comedy-Family-Fantasy</td>\n",
       "      <td>en</td>\n",
       "      <td>Puss in Boots discovers that his passion for a...</td>\n",
       "      <td>3204.321</td>\n",
       "      <td>Universal Pictures-DreamWorks Animation</td>\n",
       "      <td>2022-12-07</td>\n",
       "      <td>90000000.0</td>\n",
       "      <td>4.230000e+08</td>\n",
       "      <td>103.0</td>\n",
       "      <td>Released</td>\n",
       "      <td>8.485</td>\n",
       "      <td>3884.0</td>\n",
       "      <td>Antonio Banderas-Salma Hayek-Harvey Guillén-Wa...</td>\n",
       "    </tr>\n",
       "    <tr>\n",
       "      <th>2</th>\n",
       "      <td>646389</td>\n",
       "      <td>Plane</td>\n",
       "      <td>Action-Adventure-Thriller</td>\n",
       "      <td>en</td>\n",
       "      <td>After a heroic job of successfully landing his...</td>\n",
       "      <td>3115.286</td>\n",
       "      <td>Di Bonaventura Pictures-MadRiver Pictures-Rive...</td>\n",
       "      <td>2023-01-13</td>\n",
       "      <td>25000000.0</td>\n",
       "      <td>4.600000e+07</td>\n",
       "      <td>107.0</td>\n",
       "      <td>Released</td>\n",
       "      <td>6.800</td>\n",
       "      <td>502.0</td>\n",
       "      <td>Gerard Butler-Mike Colter-Yoson An-Tony Goldwy...</td>\n",
       "    </tr>\n",
       "    <tr>\n",
       "      <th>3</th>\n",
       "      <td>536554</td>\n",
       "      <td>M3GAN</td>\n",
       "      <td>Science Fiction-Horror-Comedy</td>\n",
       "      <td>en</td>\n",
       "      <td>A brilliant toy company roboticist uses artifi...</td>\n",
       "      <td>2088.921</td>\n",
       "      <td>Universal Pictures-Blumhouse Productions-Atomi...</td>\n",
       "      <td>2022-12-28</td>\n",
       "      <td>12000000.0</td>\n",
       "      <td>1.676440e+08</td>\n",
       "      <td>102.0</td>\n",
       "      <td>Released</td>\n",
       "      <td>7.535</td>\n",
       "      <td>1662.0</td>\n",
       "      <td>Allison Williams-Violet McGraw-Jenna Davis-Ami...</td>\n",
       "    </tr>\n",
       "    <tr>\n",
       "      <th>4</th>\n",
       "      <td>76600</td>\n",
       "      <td>Avatar: The Way of Water</td>\n",
       "      <td>Science Fiction-Adventure-Action</td>\n",
       "      <td>en</td>\n",
       "      <td>Set more than a decade after the events of the...</td>\n",
       "      <td>1738.087</td>\n",
       "      <td>Lightstorm Entertainment-20th Century Studios</td>\n",
       "      <td>2022-12-14</td>\n",
       "      <td>460000000.0</td>\n",
       "      <td>2.243276e+09</td>\n",
       "      <td>192.0</td>\n",
       "      <td>Released</td>\n",
       "      <td>7.733</td>\n",
       "      <td>5343.0</td>\n",
       "      <td>Sam Worthington-Zoe Saldaña-Sigourney Weaver-B...</td>\n",
       "    </tr>\n",
       "    <tr>\n",
       "      <th>...</th>\n",
       "      <td>...</td>\n",
       "      <td>...</td>\n",
       "      <td>...</td>\n",
       "      <td>...</td>\n",
       "      <td>...</td>\n",
       "      <td>...</td>\n",
       "      <td>...</td>\n",
       "      <td>...</td>\n",
       "      <td>...</td>\n",
       "      <td>...</td>\n",
       "      <td>...</td>\n",
       "      <td>...</td>\n",
       "      <td>...</td>\n",
       "      <td>...</td>\n",
       "      <td>...</td>\n",
       "    </tr>\n",
       "    <tr>\n",
       "      <th>9159</th>\n",
       "      <td>823471</td>\n",
       "      <td>Beached</td>\n",
       "      <td>Drama</td>\n",
       "      <td>en</td>\n",
       "      <td>BEACHED tells the surreal story of two days in...</td>\n",
       "      <td>0.600</td>\n",
       "      <td>Impasse Pictures</td>\n",
       "      <td>2009-06-05</td>\n",
       "      <td>41703.0</td>\n",
       "      <td>4.170300e+04</td>\n",
       "      <td>15.0</td>\n",
       "      <td>Released</td>\n",
       "      <td>10.000</td>\n",
       "      <td>1.0</td>\n",
       "      <td>Alex Warner-Nina Jamil-Mark Cainen-Ray Gravell</td>\n",
       "    </tr>\n",
       "    <tr>\n",
       "      <th>9160</th>\n",
       "      <td>817989</td>\n",
       "      <td>The Vigil</td>\n",
       "      <td>Drama-Thriller</td>\n",
       "      <td>es</td>\n",
       "      <td>The Vigil is a thriller film that tells the st...</td>\n",
       "      <td>0.600</td>\n",
       "      <td>Argos Producciones</td>\n",
       "      <td>2010-10-28</td>\n",
       "      <td>262.0</td>\n",
       "      <td>2.900000e+01</td>\n",
       "      <td>90.0</td>\n",
       "      <td>Released</td>\n",
       "      <td>4.000</td>\n",
       "      <td>1.0</td>\n",
       "      <td>Gianfranco Brero-Stephanie Orúe</td>\n",
       "    </tr>\n",
       "    <tr>\n",
       "      <th>9161</th>\n",
       "      <td>838099</td>\n",
       "      <td>The Plague</td>\n",
       "      <td>Action-Crime</td>\n",
       "      <td>es</td>\n",
       "      <td>A funny teenager is bullied by a pair of basta...</td>\n",
       "      <td>0.600</td>\n",
       "      <td>AmorArtis</td>\n",
       "      <td>2019-06-13</td>\n",
       "      <td>5.0</td>\n",
       "      <td>1.000000e+00</td>\n",
       "      <td>12.0</td>\n",
       "      <td>Released</td>\n",
       "      <td>7.000</td>\n",
       "      <td>1.0</td>\n",
       "      <td>Andreo Chimal-Otoniel Noris-Emmanuel López-Cés...</td>\n",
       "    </tr>\n",
       "    <tr>\n",
       "      <th>9162</th>\n",
       "      <td>854916</td>\n",
       "      <td>Rejects</td>\n",
       "      <td>Action-Drama-Science Fiction</td>\n",
       "      <td>en</td>\n",
       "      <td>Guns cash and four friends who have the wrong ...</td>\n",
       "      <td>0.600</td>\n",
       "      <td>Lab5 Films</td>\n",
       "      <td>2021-07-30</td>\n",
       "      <td>500.0</td>\n",
       "      <td>5.000000e+02</td>\n",
       "      <td>13.0</td>\n",
       "      <td>Released</td>\n",
       "      <td>8.000</td>\n",
       "      <td>1.0</td>\n",
       "      <td>Honda King-Randall Walter McDonald-Austin Buch...</td>\n",
       "    </tr>\n",
       "    <tr>\n",
       "      <th>9163</th>\n",
       "      <td>853631</td>\n",
       "      <td>A Way Out</td>\n",
       "      <td>Drama</td>\n",
       "      <td>en</td>\n",
       "      <td>NaN</td>\n",
       "      <td>0.600</td>\n",
       "      <td>Blushot</td>\n",
       "      <td>2021-04-12</td>\n",
       "      <td>1.0</td>\n",
       "      <td>1.000000e+00</td>\n",
       "      <td>7.0</td>\n",
       "      <td>Released</td>\n",
       "      <td>9.000</td>\n",
       "      <td>1.0</td>\n",
       "      <td>Anas Alhajj</td>\n",
       "    </tr>\n",
       "  </tbody>\n",
       "</table>\n",
       "<p>9164 rows × 15 columns</p>\n",
       "</div>"
      ],
      "text/plain": [
       "          id                           title  \\\n",
       "0     505642  Black Panther: Wakanda Forever   \n",
       "1     315162    Puss in Boots: The Last Wish   \n",
       "2     646389                           Plane   \n",
       "3     536554                           M3GAN   \n",
       "4      76600        Avatar: The Way of Water   \n",
       "...      ...                             ...   \n",
       "9159  823471                         Beached   \n",
       "9160  817989                       The Vigil   \n",
       "9161  838099                      The Plague   \n",
       "9162  854916                         Rejects   \n",
       "9163  853631                       A Way Out   \n",
       "\n",
       "                                         genres original_language  \\\n",
       "0              Action-Adventure-Science Fiction                en   \n",
       "1     Animation-Adventure-Comedy-Family-Fantasy                en   \n",
       "2                     Action-Adventure-Thriller                en   \n",
       "3                 Science Fiction-Horror-Comedy                en   \n",
       "4              Science Fiction-Adventure-Action                en   \n",
       "...                                         ...               ...   \n",
       "9159                                      Drama                en   \n",
       "9160                             Drama-Thriller                es   \n",
       "9161                               Action-Crime                es   \n",
       "9162               Action-Drama-Science Fiction                en   \n",
       "9163                                      Drama                en   \n",
       "\n",
       "                                               overview  popularity  \\\n",
       "0     Queen Ramonda Shuri M’Baku Okoye and the Dora ...    4378.531   \n",
       "1     Puss in Boots discovers that his passion for a...    3204.321   \n",
       "2     After a heroic job of successfully landing his...    3115.286   \n",
       "3     A brilliant toy company roboticist uses artifi...    2088.921   \n",
       "4     Set more than a decade after the events of the...    1738.087   \n",
       "...                                                 ...         ...   \n",
       "9159  BEACHED tells the surreal story of two days in...       0.600   \n",
       "9160  The Vigil is a thriller film that tells the st...       0.600   \n",
       "9161  A funny teenager is bullied by a pair of basta...       0.600   \n",
       "9162  Guns cash and four friends who have the wrong ...       0.600   \n",
       "9163                                                NaN       0.600   \n",
       "\n",
       "                                   production_companies release_date  \\\n",
       "0                                        Marvel Studios   2022-11-09   \n",
       "1               Universal Pictures-DreamWorks Animation   2022-12-07   \n",
       "2     Di Bonaventura Pictures-MadRiver Pictures-Rive...   2023-01-13   \n",
       "3     Universal Pictures-Blumhouse Productions-Atomi...   2022-12-28   \n",
       "4         Lightstorm Entertainment-20th Century Studios   2022-12-14   \n",
       "...                                                 ...          ...   \n",
       "9159                                   Impasse Pictures   2009-06-05   \n",
       "9160                                 Argos Producciones   2010-10-28   \n",
       "9161                                          AmorArtis   2019-06-13   \n",
       "9162                                         Lab5 Films   2021-07-30   \n",
       "9163                                            Blushot   2021-04-12   \n",
       "\n",
       "           budget       revenue  runtime    status  vote_average  vote_count  \\\n",
       "0     250000000.0  8.550990e+08    162.0  Released         7.449      3340.0   \n",
       "1      90000000.0  4.230000e+08    103.0  Released         8.485      3884.0   \n",
       "2      25000000.0  4.600000e+07    107.0  Released         6.800       502.0   \n",
       "3      12000000.0  1.676440e+08    102.0  Released         7.535      1662.0   \n",
       "4     460000000.0  2.243276e+09    192.0  Released         7.733      5343.0   \n",
       "...           ...           ...      ...       ...           ...         ...   \n",
       "9159      41703.0  4.170300e+04     15.0  Released        10.000         1.0   \n",
       "9160        262.0  2.900000e+01     90.0  Released         4.000         1.0   \n",
       "9161          5.0  1.000000e+00     12.0  Released         7.000         1.0   \n",
       "9162        500.0  5.000000e+02     13.0  Released         8.000         1.0   \n",
       "9163          1.0  1.000000e+00      7.0  Released         9.000         1.0   \n",
       "\n",
       "                                                credits  \n",
       "0     Letitia Wright-Lupita Nyong'o-Danai Gurira-Win...  \n",
       "1     Antonio Banderas-Salma Hayek-Harvey Guillén-Wa...  \n",
       "2     Gerard Butler-Mike Colter-Yoson An-Tony Goldwy...  \n",
       "3     Allison Williams-Violet McGraw-Jenna Davis-Ami...  \n",
       "4     Sam Worthington-Zoe Saldaña-Sigourney Weaver-B...  \n",
       "...                                                 ...  \n",
       "9159     Alex Warner-Nina Jamil-Mark Cainen-Ray Gravell  \n",
       "9160                    Gianfranco Brero-Stephanie Orúe  \n",
       "9161  Andreo Chimal-Otoniel Noris-Emmanuel López-Cés...  \n",
       "9162  Honda King-Randall Walter McDonald-Austin Buch...  \n",
       "9163                                        Anas Alhajj  \n",
       "\n",
       "[9164 rows x 15 columns]"
      ]
     },
     "execution_count": 72,
     "metadata": {},
     "output_type": "execute_result"
    }
   ],
   "source": [
    "x=df\n",
    "x"
   ]
  },
  {
   "cell_type": "code",
   "execution_count": 231,
   "id": "50b440a0",
   "metadata": {},
   "outputs": [
    {
     "data": {
      "text/plain": [
       "0        250000000.0\n",
       "1         90000000.0\n",
       "2         25000000.0\n",
       "3         12000000.0\n",
       "4        460000000.0\n",
       "            ...     \n",
       "11065       500000.0\n",
       "11066          500.0\n",
       "11067            1.0\n",
       "11068           10.0\n",
       "11069           10.0\n",
       "Name: budget, Length: 11070, dtype: float64"
      ]
     },
     "execution_count": 231,
     "metadata": {},
     "output_type": "execute_result"
    }
   ],
   "source": []
  },
  {
   "cell_type": "code",
   "execution_count": 73,
   "id": "b49f1753",
   "metadata": {},
   "outputs": [],
   "source": [
    "x.loc[:, 'budget']= x['budget'] / 1000000"
   ]
  },
  {
   "cell_type": "code",
   "execution_count": 74,
   "id": "e7e0e1ec",
   "metadata": {},
   "outputs": [],
   "source": [
    "x.loc[:, 'revenue'] = x['revenue'] / 1000000"
   ]
  },
  {
   "cell_type": "code",
   "execution_count": 75,
   "id": "af0cba2b",
   "metadata": {},
   "outputs": [
    {
     "data": {
      "text/plain": [
       "9163      0.000001\n",
       "9142      0.000001\n",
       "9141      0.000001\n",
       "8075      0.000001\n",
       "8993      0.000001\n",
       "           ...    \n",
       "7657    300.000000\n",
       "99      356.000000\n",
       "154     365.000000\n",
       "114     380.000000\n",
       "4       460.000000\n",
       "Name: budget, Length: 9164, dtype: float64"
      ]
     },
     "execution_count": 75,
     "metadata": {},
     "output_type": "execute_result"
    }
   ],
   "source": [
    "x = x.sort_values(by='budget')\n",
    "x['budget']"
   ]
  },
  {
   "cell_type": "code",
   "execution_count": 76,
   "id": "62072b54",
   "metadata": {},
   "outputs": [
    {
     "data": {
      "text/plain": [
       "9163       0.000001\n",
       "9121       0.000001\n",
       "9123       0.000001\n",
       "8033       0.000001\n",
       "8844       0.000001\n",
       "           ...     \n",
       "471     2068.223624\n",
       "25      2187.463944\n",
       "4       2243.275991\n",
       "99      2797.800564\n",
       "6       2920.357254\n",
       "Name: revenue, Length: 9164, dtype: float64"
      ]
     },
     "execution_count": 76,
     "metadata": {},
     "output_type": "execute_result"
    }
   ],
   "source": [
    "x = x.sort_values(by='revenue')\n",
    "x['revenue']"
   ]
  },
  {
   "cell_type": "code",
   "execution_count": 77,
   "id": "dce1f9e3",
   "metadata": {},
   "outputs": [],
   "source": [
    "x = x.drop(x[x['budget'] < 5].index)\n",
    "x = x.drop(x[x['revenue'] < 5].index)"
   ]
  },
  {
   "cell_type": "code",
   "execution_count": 78,
   "id": "882016fa",
   "metadata": {},
   "outputs": [
    {
     "data": {
      "text/plain": [
       "20.000000     238\n",
       "25.000000     217\n",
       "30.000000     201\n",
       "15.000000     200\n",
       "10.000000     175\n",
       "             ... \n",
       "63.600000       1\n",
       "5.700000        1\n",
       "18.052672       1\n",
       "17.516235       1\n",
       "237.000000      1\n",
       "Name: budget, Length: 485, dtype: int64"
      ]
     },
     "execution_count": 78,
     "metadata": {},
     "output_type": "execute_result"
    },
    {
     "data": {
      "text/plain": [
       "12.000000      12\n",
       "20.000000       9\n",
       "30.000000       8\n",
       "16.000000       8\n",
       "15.000000       7\n",
       "               ..\n",
       "29.612137       1\n",
       "29.610210       1\n",
       "29.541790       1\n",
       "29.523237       1\n",
       "2920.357254     1\n",
       "Name: revenue, Length: 4881, dtype: int64"
      ]
     },
     "execution_count": 78,
     "metadata": {},
     "output_type": "execute_result"
    }
   ],
   "source": [
    "x['budget'].value_counts()\n",
    "x['revenue'].value_counts()\n"
   ]
  },
  {
   "cell_type": "code",
   "execution_count": 224,
   "id": "48a767d6",
   "metadata": {},
   "outputs": [],
   "source": [
    "x2=np.log(x['budget'])\n",
    "y2=np.log(x['revenue'])\n",
    "df1 = pd.DataFrame({'budget_log': x2, 'revenue_log': y2})"
   ]
  },
  {
   "cell_type": "code",
   "execution_count": null,
   "id": "e5567dab",
   "metadata": {},
   "outputs": [],
   "source": []
  },
  {
   "cell_type": "code",
   "execution_count": 80,
   "id": "4d0253c1",
   "metadata": {},
   "outputs": [
    {
     "data": {
      "text/plain": [
       "<Figure size 720x720 with 0 Axes>"
      ]
     },
     "execution_count": 80,
     "metadata": {},
     "output_type": "execute_result"
    },
    {
     "data": {
      "text/plain": [
       "<Figure size 720x720 with 0 Axes>"
      ]
     },
     "metadata": {},
     "output_type": "display_data"
    }
   ],
   "source": []
  },
  {
   "cell_type": "code",
   "execution_count": null,
   "id": "e6fecbb5",
   "metadata": {},
   "outputs": [],
   "source": []
  },
  {
   "cell_type": "code",
   "execution_count": 225,
   "id": "79dfe199",
   "metadata": {},
   "outputs": [
    {
     "data": {
      "text/plain": [
       "<AxesSubplot:xlabel='budget_log', ylabel='revenue_log'>"
      ]
     },
     "execution_count": 225,
     "metadata": {},
     "output_type": "execute_result"
    },
    {
     "data": {
      "text/plain": [
       "Text(0.5, 1.0, 'Budget vs Revenue')"
      ]
     },
     "execution_count": 225,
     "metadata": {},
     "output_type": "execute_result"
    },
    {
     "data": {
      "text/plain": [
       "Text(0.5, 0, 'Budget ')"
      ]
     },
     "execution_count": 225,
     "metadata": {},
     "output_type": "execute_result"
    },
    {
     "data": {
      "text/plain": [
       "Text(0, 0.5, 'Revenue')"
      ]
     },
     "execution_count": 225,
     "metadata": {},
     "output_type": "execute_result"
    },
    {
     "data": {
      "image/png": "[encoded data removed]",
      "text/plain": [
       "<Figure size 432x288 with 1 Axes>"
      ]
     },
     "metadata": {
      "needs_background": "light"
     },
     "output_type": "display_data"
    }
   ],
   "source": [
    "sns.regplot(x = 'budget_log', y = 'revenue_log', data = df1, scatter_kws={'alpha':0.5})\n",
    "plt.title('Budget vs Revenue')          # Set title.\n",
    "plt.xlabel(\"Budget \")       # Set x-axis label.\n",
    "plt.ylabel('Revenue')    # Set y-axis label."
   ]
  },
  {
   "cell_type": "code",
   "execution_count": 82,
   "id": "e8237c1c",
   "metadata": {},
   "outputs": [
    {
     "data": {
      "text/plain": [
       "<seaborn.axisgrid.JointGrid at 0x2c08c455400>"
      ]
     },
     "execution_count": 82,
     "metadata": {},
     "output_type": "execute_result"
    },
    {
     "data": {
      "image/png": "[encoded data removed]",
      "text/plain": [
       "<Figure size 432x432 with 3 Axes>"
      ]
     },
     "metadata": {
      "needs_background": "light"
     },
     "output_type": "display_data"
    }
   ],
   "source": [
    "sns.jointplot(x = 'budget_log', y = 'revenue_log', data = df1,alpha = 0.5)"
   ]
  },
  {
   "cell_type": "code",
   "execution_count": 253,
   "id": "b207ffc8",
   "metadata": {},
   "outputs": [],
   "source": [
    "x.to_csv('MyDataFilmsScaled.csv', index=False)"
   ]
  },
  {
   "cell_type": "code",
   "execution_count": null,
   "id": "6efd9f51",
   "metadata": {},
   "outputs": [],
   "source": [
    "X = x[['vote_average','budget', 'runtime']]\n",
    "y = x['revenue']"
   ]
  },
  {
   "cell_type": "code",
   "execution_count": 131,
   "id": "2d31c4f3",
   "metadata": {},
   "outputs": [
    {
     "data": {
      "image/png": "[encoded data removed]",
      "text/plain": [
       "<Figure size 1080x288 with 2 Axes>"
      ]
     },
     "metadata": {
      "needs_background": "light"
     },
     "output_type": "display_data"
    }
   ],
   "source": [
    "plt.figure(figsize = (15,4))\n",
    "plt.subplot(121)\n",
    "plt.scatter(X.budget,y)\n",
    "plt.xlabel(\"Budget\")\n",
    "plt.ylabel(\"Revenue\")\n",
    "plt.subplot(122)\n",
    "plt.scatter(X.original_language,y)\n",
    "plt.xlabel(\"popularity\")\n",
    "plt.ylabel(\"Revenue\");"
   ]
  },
  {
   "cell_type": "code",
   "execution_count": 226,
   "id": "683cd0d8",
   "metadata": {},
   "outputs": [],
   "source": [
    "def is_english(lang):\n",
    "    if lang == 'en':\n",
    "        return 1\n",
    "    else:\n",
    "        return 0"
   ]
  },
  {
   "cell_type": "code",
   "execution_count": 227,
   "id": "db97f80f",
   "metadata": {},
   "outputs": [],
   "source": [
    "x['language'] = x['original_language'].apply(is_english)"
   ]
  },
  {
   "cell_type": "code",
   "execution_count": 228,
   "id": "4223f512",
   "metadata": {},
   "outputs": [
    {
     "data": {
      "text/html": [
       "<div>\n",
       "<style scoped>\n",
       "    .dataframe tbody tr th:only-of-type {\n",
       "        vertical-align: middle;\n",
       "    }\n",
       "\n",
       "    .dataframe tbody tr th {\n",
       "        vertical-align: top;\n",
       "    }\n",
       "\n",
       "    .dataframe thead th {\n",
       "        text-align: right;\n",
       "    }\n",
       "</style>\n",
       "<table border=\"1\" class=\"dataframe\">\n",
       "  <thead>\n",
       "    <tr style=\"text-align: right;\">\n",
       "      <th></th>\n",
       "      <th>id</th>\n",
       "      <th>title</th>\n",
       "      <th>genres</th>\n",
       "      <th>original_language</th>\n",
       "      <th>overview</th>\n",
       "      <th>popularity</th>\n",
       "      <th>production_companies</th>\n",
       "      <th>release_date</th>\n",
       "      <th>budget</th>\n",
       "      <th>revenue</th>\n",
       "      <th>runtime</th>\n",
       "      <th>status</th>\n",
       "      <th>vote_average</th>\n",
       "      <th>vote_count</th>\n",
       "      <th>credits</th>\n",
       "      <th>language</th>\n",
       "    </tr>\n",
       "  </thead>\n",
       "  <tbody>\n",
       "    <tr>\n",
       "      <th>5277</th>\n",
       "      <td>15660</td>\n",
       "      <td>Mommie Dearest</td>\n",
       "      <td>Drama</td>\n",
       "      <td>en</td>\n",
       "      <td>Renowned actress Joan Crawford at the height o...</td>\n",
       "      <td>10.589</td>\n",
       "      <td>Paramount-The Irwin Yablans Company</td>\n",
       "      <td>1981-09-18</td>\n",
       "      <td>19.032261</td>\n",
       "      <td>5.000000</td>\n",
       "      <td>128.0</td>\n",
       "      <td>Released</td>\n",
       "      <td>6.400</td>\n",
       "      <td>166.0</td>\n",
       "      <td>Faye Dunaway-Diana Scarwid-Steve Forrest-Howar...</td>\n",
       "      <td>1</td>\n",
       "    </tr>\n",
       "    <tr>\n",
       "      <th>6131</th>\n",
       "      <td>230266</td>\n",
       "      <td>Miss Julie</td>\n",
       "      <td>Drama</td>\n",
       "      <td>en</td>\n",
       "      <td>Over the course of a midsummer night in Ferman...</td>\n",
       "      <td>8.633</td>\n",
       "      <td>Maipo Film-The Apocalypse Films</td>\n",
       "      <td>2014-09-07</td>\n",
       "      <td>5.500000</td>\n",
       "      <td>5.000000</td>\n",
       "      <td>130.0</td>\n",
       "      <td>Released</td>\n",
       "      <td>5.700</td>\n",
       "      <td>123.0</td>\n",
       "      <td>Jessica Chastain-Colin Farrell-Samantha Morton...</td>\n",
       "      <td>1</td>\n",
       "    </tr>\n",
       "    <tr>\n",
       "      <th>2546</th>\n",
       "      <td>9322</td>\n",
       "      <td>La Femme Nikita</td>\n",
       "      <td>Action-Thriller</td>\n",
       "      <td>fr</td>\n",
       "      <td>A beautiful felon sentenced to life in prison ...</td>\n",
       "      <td>19.647</td>\n",
       "      <td>Gaumont-Cecchi Gori Group Tiger Cinematografic...</td>\n",
       "      <td>1990-02-21</td>\n",
       "      <td>8.538703</td>\n",
       "      <td>5.000000</td>\n",
       "      <td>117.0</td>\n",
       "      <td>Released</td>\n",
       "      <td>7.100</td>\n",
       "      <td>1636.0</td>\n",
       "      <td>Anne Parillaud-Jean-Hugues Anglade-Tchéky Kary...</td>\n",
       "      <td>0</td>\n",
       "    </tr>\n",
       "    <tr>\n",
       "      <th>6349</th>\n",
       "      <td>592336</td>\n",
       "      <td>Don't Stop Me Now</td>\n",
       "      <td>Comedy</td>\n",
       "      <td>it</td>\n",
       "      <td>Paola a modern woman used to the hardships of ...</td>\n",
       "      <td>8.115</td>\n",
       "      <td>Wildside-Vision Distribution</td>\n",
       "      <td>2019-04-18</td>\n",
       "      <td>8.000000</td>\n",
       "      <td>5.000000</td>\n",
       "      <td>102.0</td>\n",
       "      <td>Released</td>\n",
       "      <td>6.346</td>\n",
       "      <td>331.0</td>\n",
       "      <td>Paola Cortellesi-Stefano Fresi-Vinicio Marchio...</td>\n",
       "      <td>0</td>\n",
       "    </tr>\n",
       "    <tr>\n",
       "      <th>6677</th>\n",
       "      <td>8747</td>\n",
       "      <td>The Black Balloon</td>\n",
       "      <td>Drama</td>\n",
       "      <td>en</td>\n",
       "      <td>Thomas is turning 16. His dad's in the army an...</td>\n",
       "      <td>7.272</td>\n",
       "      <td>Black Balloon Productions</td>\n",
       "      <td>2008-03-08</td>\n",
       "      <td>5.000000</td>\n",
       "      <td>5.000000</td>\n",
       "      <td>97.0</td>\n",
       "      <td>Released</td>\n",
       "      <td>6.800</td>\n",
       "      <td>65.0</td>\n",
       "      <td>Toni Collette-Rhys Wakefield-Luke Ford-Gemma W...</td>\n",
       "      <td>1</td>\n",
       "    </tr>\n",
       "    <tr>\n",
       "      <th>...</th>\n",
       "      <td>...</td>\n",
       "      <td>...</td>\n",
       "      <td>...</td>\n",
       "      <td>...</td>\n",
       "      <td>...</td>\n",
       "      <td>...</td>\n",
       "      <td>...</td>\n",
       "      <td>...</td>\n",
       "      <td>...</td>\n",
       "      <td>...</td>\n",
       "      <td>...</td>\n",
       "      <td>...</td>\n",
       "      <td>...</td>\n",
       "      <td>...</td>\n",
       "      <td>...</td>\n",
       "      <td>...</td>\n",
       "    </tr>\n",
       "    <tr>\n",
       "      <th>471</th>\n",
       "      <td>140607</td>\n",
       "      <td>Star Wars: The Force Awakens</td>\n",
       "      <td>Adventure-Action-Science Fiction-Fantasy</td>\n",
       "      <td>en</td>\n",
       "      <td>Thirty years after defeating the Galactic Empi...</td>\n",
       "      <td>57.305</td>\n",
       "      <td>Lucasfilm-Bad Robot</td>\n",
       "      <td>2015-12-15</td>\n",
       "      <td>245.000000</td>\n",
       "      <td>2068.223624</td>\n",
       "      <td>136.0</td>\n",
       "      <td>Released</td>\n",
       "      <td>7.305</td>\n",
       "      <td>17755.0</td>\n",
       "      <td>Harrison Ford-Mark Hamill-Carrie Fisher-Adam D...</td>\n",
       "      <td>1</td>\n",
       "    </tr>\n",
       "    <tr>\n",
       "      <th>25</th>\n",
       "      <td>597</td>\n",
       "      <td>Titanic</td>\n",
       "      <td>Drama-Romance</td>\n",
       "      <td>en</td>\n",
       "      <td>101-year-old Rose DeWitt Bukater tells the sto...</td>\n",
       "      <td>319.114</td>\n",
       "      <td>Paramount-20th Century Fox-Lightstorm Entertai...</td>\n",
       "      <td>1997-11-18</td>\n",
       "      <td>200.000000</td>\n",
       "      <td>2187.463944</td>\n",
       "      <td>194.0</td>\n",
       "      <td>Released</td>\n",
       "      <td>7.888</td>\n",
       "      <td>22350.0</td>\n",
       "      <td>Leonardo DiCaprio-Kate Winslet-Billy Zane-Kath...</td>\n",
       "      <td>1</td>\n",
       "    </tr>\n",
       "    <tr>\n",
       "      <th>4</th>\n",
       "      <td>76600</td>\n",
       "      <td>Avatar: The Way of Water</td>\n",
       "      <td>Science Fiction-Adventure-Action</td>\n",
       "      <td>en</td>\n",
       "      <td>Set more than a decade after the events of the...</td>\n",
       "      <td>1738.087</td>\n",
       "      <td>Lightstorm Entertainment-20th Century Studios</td>\n",
       "      <td>2022-12-14</td>\n",
       "      <td>460.000000</td>\n",
       "      <td>2243.275991</td>\n",
       "      <td>192.0</td>\n",
       "      <td>Released</td>\n",
       "      <td>7.733</td>\n",
       "      <td>5343.0</td>\n",
       "      <td>Sam Worthington-Zoe Saldaña-Sigourney Weaver-B...</td>\n",
       "      <td>1</td>\n",
       "    </tr>\n",
       "    <tr>\n",
       "      <th>99</th>\n",
       "      <td>299534</td>\n",
       "      <td>Avengers: Endgame</td>\n",
       "      <td>Adventure-Science Fiction-Action</td>\n",
       "      <td>en</td>\n",
       "      <td>After the devastating events of Avengers: Infi...</td>\n",
       "      <td>128.607</td>\n",
       "      <td>Marvel Studios</td>\n",
       "      <td>2019-04-24</td>\n",
       "      <td>356.000000</td>\n",
       "      <td>2797.800564</td>\n",
       "      <td>181.0</td>\n",
       "      <td>Released</td>\n",
       "      <td>8.270</td>\n",
       "      <td>22651.0</td>\n",
       "      <td>Robert Downey Jr.-Chris Evans-Mark Ruffalo-Chr...</td>\n",
       "      <td>1</td>\n",
       "    </tr>\n",
       "    <tr>\n",
       "      <th>6</th>\n",
       "      <td>19995</td>\n",
       "      <td>Avatar</td>\n",
       "      <td>Action-Adventure-Fantasy-Science Fiction</td>\n",
       "      <td>en</td>\n",
       "      <td>In the 22nd century a paraplegic Marine is dis...</td>\n",
       "      <td>771.663</td>\n",
       "      <td>20th Century Fox-Ingenious Media-Dune Entertai...</td>\n",
       "      <td>2009-12-15</td>\n",
       "      <td>237.000000</td>\n",
       "      <td>2920.357254</td>\n",
       "      <td>162.0</td>\n",
       "      <td>Released</td>\n",
       "      <td>7.566</td>\n",
       "      <td>28398.0</td>\n",
       "      <td>Sam Worthington-Zoe Saldaña-Sigourney Weaver-S...</td>\n",
       "      <td>1</td>\n",
       "    </tr>\n",
       "  </tbody>\n",
       "</table>\n",
       "<p>5117 rows × 16 columns</p>\n",
       "</div>"
      ],
      "text/plain": [
       "          id                         title  \\\n",
       "5277   15660                Mommie Dearest   \n",
       "6131  230266                    Miss Julie   \n",
       "2546    9322               La Femme Nikita   \n",
       "6349  592336             Don't Stop Me Now   \n",
       "6677    8747             The Black Balloon   \n",
       "...      ...                           ...   \n",
       "471   140607  Star Wars: The Force Awakens   \n",
       "25       597                       Titanic   \n",
       "4      76600      Avatar: The Way of Water   \n",
       "99    299534             Avengers: Endgame   \n",
       "6      19995                        Avatar   \n",
       "\n",
       "                                        genres original_language  \\\n",
       "5277                                     Drama                en   \n",
       "6131                                     Drama                en   \n",
       "2546                           Action-Thriller                fr   \n",
       "6349                                    Comedy                it   \n",
       "6677                                     Drama                en   \n",
       "...                                        ...               ...   \n",
       "471   Adventure-Action-Science Fiction-Fantasy                en   \n",
       "25                               Drama-Romance                en   \n",
       "4             Science Fiction-Adventure-Action                en   \n",
       "99            Adventure-Science Fiction-Action                en   \n",
       "6     Action-Adventure-Fantasy-Science Fiction                en   \n",
       "\n",
       "                                               overview  popularity  \\\n",
       "5277  Renowned actress Joan Crawford at the height o...      10.589   \n",
       "6131  Over the course of a midsummer night in Ferman...       8.633   \n",
       "2546  A beautiful felon sentenced to life in prison ...      19.647   \n",
       "6349  Paola a modern woman used to the hardships of ...       8.115   \n",
       "6677  Thomas is turning 16. His dad's in the army an...       7.272   \n",
       "...                                                 ...         ...   \n",
       "471   Thirty years after defeating the Galactic Empi...      57.305   \n",
       "25    101-year-old Rose DeWitt Bukater tells the sto...     319.114   \n",
       "4     Set more than a decade after the events of the...    1738.087   \n",
       "99    After the devastating events of Avengers: Infi...     128.607   \n",
       "6     In the 22nd century a paraplegic Marine is dis...     771.663   \n",
       "\n",
       "                                   production_companies release_date  \\\n",
       "5277                Paramount-The Irwin Yablans Company   1981-09-18   \n",
       "6131                    Maipo Film-The Apocalypse Films   2014-09-07   \n",
       "2546  Gaumont-Cecchi Gori Group Tiger Cinematografic...   1990-02-21   \n",
       "6349                       Wildside-Vision Distribution   2019-04-18   \n",
       "6677                          Black Balloon Productions   2008-03-08   \n",
       "...                                                 ...          ...   \n",
       "471                                 Lucasfilm-Bad Robot   2015-12-15   \n",
       "25    Paramount-20th Century Fox-Lightstorm Entertai...   1997-11-18   \n",
       "4         Lightstorm Entertainment-20th Century Studios   2022-12-14   \n",
       "99                                       Marvel Studios   2019-04-24   \n",
       "6     20th Century Fox-Ingenious Media-Dune Entertai...   2009-12-15   \n",
       "\n",
       "          budget      revenue  runtime    status  vote_average  vote_count  \\\n",
       "5277   19.032261     5.000000    128.0  Released         6.400       166.0   \n",
       "6131    5.500000     5.000000    130.0  Released         5.700       123.0   \n",
       "2546    8.538703     5.000000    117.0  Released         7.100      1636.0   \n",
       "6349    8.000000     5.000000    102.0  Released         6.346       331.0   \n",
       "6677    5.000000     5.000000     97.0  Released         6.800        65.0   \n",
       "...          ...          ...      ...       ...           ...         ...   \n",
       "471   245.000000  2068.223624    136.0  Released         7.305     17755.0   \n",
       "25    200.000000  2187.463944    194.0  Released         7.888     22350.0   \n",
       "4     460.000000  2243.275991    192.0  Released         7.733      5343.0   \n",
       "99    356.000000  2797.800564    181.0  Released         8.270     22651.0   \n",
       "6     237.000000  2920.357254    162.0  Released         7.566     28398.0   \n",
       "\n",
       "                                                credits  language  \n",
       "5277  Faye Dunaway-Diana Scarwid-Steve Forrest-Howar...         1  \n",
       "6131  Jessica Chastain-Colin Farrell-Samantha Morton...         1  \n",
       "2546  Anne Parillaud-Jean-Hugues Anglade-Tchéky Kary...         0  \n",
       "6349  Paola Cortellesi-Stefano Fresi-Vinicio Marchio...         0  \n",
       "6677  Toni Collette-Rhys Wakefield-Luke Ford-Gemma W...         1  \n",
       "...                                                 ...       ...  \n",
       "471   Harrison Ford-Mark Hamill-Carrie Fisher-Adam D...         1  \n",
       "25    Leonardo DiCaprio-Kate Winslet-Billy Zane-Kath...         1  \n",
       "4     Sam Worthington-Zoe Saldaña-Sigourney Weaver-B...         1  \n",
       "99    Robert Downey Jr.-Chris Evans-Mark Ruffalo-Chr...         1  \n",
       "6     Sam Worthington-Zoe Saldaña-Sigourney Weaver-S...         1  \n",
       "\n",
       "[5117 rows x 16 columns]"
      ]
     },
     "execution_count": 228,
     "metadata": {},
     "output_type": "execute_result"
    }
   ],
   "source": [
    "x"
   ]
  },
  {
   "cell_type": "code",
   "execution_count": null,
   "id": "3bb2d3f6",
   "metadata": {},
   "outputs": [],
   "source": []
  },
  {
   "cell_type": "markdown",
   "id": "4bd28d66",
   "metadata": {},
   "source": [
    " ## Linear regresion 1.0"
   ]
  },
  {
   "cell_type": "code",
   "execution_count": 284,
   "id": "92d0d2ce",
   "metadata": {},
   "outputs": [],
   "source": [
    "X = x[['vote_average','budget']]\n",
    "y = x['revenue']\n"
   ]
  },
  {
   "cell_type": "code",
   "execution_count": 286,
   "id": "8763c935",
   "metadata": {},
   "outputs": [
    {
     "data": {
      "text/plain": [
       "LinearRegression()"
      ]
     },
     "execution_count": 286,
     "metadata": {},
     "output_type": "execute_result"
    }
   ],
   "source": [
    "model = LinearRegression()\n",
    "model"
   ]
  },
  {
   "cell_type": "code",
   "execution_count": 287,
   "id": "031fdb16",
   "metadata": {},
   "outputs": [
    {
     "data": {
      "text/plain": [
       "LinearRegression()"
      ]
     },
     "execution_count": 287,
     "metadata": {},
     "output_type": "execute_result"
    }
   ],
   "source": [
    "model.fit(X,y)"
   ]
  },
  {
   "cell_type": "code",
   "execution_count": 288,
   "id": "c92818c8",
   "metadata": {},
   "outputs": [
    {
     "data": {
      "text/plain": [
       "{'copy_X': True,\n",
       " 'fit_intercept': True,\n",
       " 'n_jobs': None,\n",
       " 'normalize': False,\n",
       " 'positive': False}"
      ]
     },
     "execution_count": 288,
     "metadata": {},
     "output_type": "execute_result"
    }
   ],
   "source": [
    "model.get_params()"
   ]
  },
  {
   "cell_type": "code",
   "execution_count": 289,
   "id": "c64a1f82",
   "metadata": {},
   "outputs": [
    {
     "data": {
      "text/plain": [
       "-328.3503375645852"
      ]
     },
     "execution_count": 289,
     "metadata": {},
     "output_type": "execute_result"
    },
    {
     "data": {
      "text/plain": [
       "array([49.34393502,  3.15140856])"
      ]
     },
     "execution_count": 289,
     "metadata": {},
     "output_type": "execute_result"
    }
   ],
   "source": [
    "model.intercept_\n",
    "model.coef_"
   ]
  },
  {
   "cell_type": "code",
   "execution_count": 290,
   "id": "2e895e5e",
   "metadata": {},
   "outputs": [
    {
     "data": {
      "text/plain": [
       "array([  47.42927676,  -29.75716089,   48.90054277, ..., 1502.87424902,\n",
       "       1201.625452  ,  791.86970324])"
      ]
     },
     "execution_count": 290,
     "metadata": {},
     "output_type": "execute_result"
    }
   ],
   "source": [
    "# prediction on X (fitted values)\n",
    "y_pred = model.predict(X)\n",
    "y_pred"
   ]
  },
  {
   "cell_type": "code",
   "execution_count": 291,
   "id": "a4f54c0c",
   "metadata": {},
   "outputs": [
    {
     "data": {
      "text/plain": [
       "17676.850246518887"
      ]
     },
     "execution_count": 291,
     "metadata": {},
     "output_type": "execute_result"
    },
    {
     "data": {
      "text/plain": [
       "0.5526229061323582"
      ]
     },
     "execution_count": 291,
     "metadata": {},
     "output_type": "execute_result"
    }
   ],
   "source": [
    "mean_squared_error(y, y_pred)\n",
    "r2_score(y, y_pred)"
   ]
  },
  {
   "cell_type": "code",
   "execution_count": 292,
   "id": "7bf8171d",
   "metadata": {},
   "outputs": [
    {
     "data": {
      "text/plain": [
       "236192.63421781655"
      ]
     },
     "execution_count": 292,
     "metadata": {},
     "output_type": "execute_result"
    },
    {
     "data": {
      "text/plain": [
       "-4.035295288755512"
      ]
     },
     "execution_count": 292,
     "metadata": {},
     "output_type": "execute_result"
    }
   ],
   "source": [
    "y_test_pred = model.predict(X_test)\n",
    "mean_squared_error(y_test, y_test_pred)\n",
    "r2_score(y_test, y_test_pred)"
   ]
  },
  {
   "cell_type": "markdown",
   "id": "52ea8ad1",
   "metadata": {},
   "source": [
    "## Linear regression 2.0-scalled"
   ]
  },
  {
   "cell_type": "code",
   "execution_count": 293,
   "id": "3daf7ea4",
   "metadata": {},
   "outputs": [],
   "source": [
    "X = x[['budget', 'vote_average']]\n",
    "y = x['revenue']"
   ]
  },
  {
   "cell_type": "code",
   "execution_count": 294,
   "id": "478add71",
   "metadata": {},
   "outputs": [],
   "source": [
    "X_train, X_test, y_train, y_test = train_test_split(X, y, \n",
    "                                                    test_size = 0.3, \n",
    "                                                    random_state = 42)"
   ]
  },
  {
   "cell_type": "code",
   "execution_count": 295,
   "id": "0e5210ce",
   "metadata": {},
   "outputs": [],
   "source": [
    "scaler = StandardScaler()"
   ]
  },
  {
   "cell_type": "code",
   "execution_count": 296,
   "id": "93772b3a",
   "metadata": {},
   "outputs": [
    {
     "data": {
      "text/plain": [
       "StandardScaler()"
      ]
     },
     "execution_count": 296,
     "metadata": {},
     "output_type": "execute_result"
    }
   ],
   "source": [
    "scaler.fit(X_train)"
   ]
  },
  {
   "cell_type": "code",
   "execution_count": 297,
   "id": "19e0f203",
   "metadata": {},
   "outputs": [],
   "source": [
    "X_train = scaler.transform(X_train)"
   ]
  },
  {
   "cell_type": "code",
   "execution_count": 298,
   "id": "8259c839",
   "metadata": {},
   "outputs": [],
   "source": [
    "X_test = scaler.transform(X_test)"
   ]
  },
  {
   "cell_type": "code",
   "execution_count": 299,
   "id": "2f02e565",
   "metadata": {},
   "outputs": [],
   "source": [
    "model = LinearRegression()"
   ]
  },
  {
   "cell_type": "code",
   "execution_count": 300,
   "id": "d2bfbecc",
   "metadata": {},
   "outputs": [
    {
     "data": {
      "text/plain": [
       "LinearRegression()"
      ]
     },
     "execution_count": 300,
     "metadata": {},
     "output_type": "execute_result"
    }
   ],
   "source": [
    "model.fit(X_train, y_train)"
   ]
  },
  {
   "cell_type": "code",
   "execution_count": 301,
   "id": "e8b0c3ee",
   "metadata": {},
   "outputs": [
    {
     "data": {
      "text/plain": [
       "15453.316495236795"
      ]
     },
     "execution_count": 301,
     "metadata": {},
     "output_type": "execute_result"
    },
    {
     "data": {
      "text/plain": [
       "0.5747340680188171"
      ]
     },
     "execution_count": 301,
     "metadata": {},
     "output_type": "execute_result"
    }
   ],
   "source": [
    "y_train_pred = model.predict(X_train)\n",
    "mean_squared_error(y_train, y_train_pred)\n",
    "r2_score(y_train, y_train_pred)"
   ]
  },
  {
   "cell_type": "code",
   "execution_count": 302,
   "id": "be52ede6",
   "metadata": {},
   "outputs": [
    {
     "data": {
      "text/plain": [
       "22898.50574075904"
      ]
     },
     "execution_count": 302,
     "metadata": {},
     "output_type": "execute_result"
    },
    {
     "data": {
      "text/plain": [
       "0.5118360127621302"
      ]
     },
     "execution_count": 302,
     "metadata": {},
     "output_type": "execute_result"
    }
   ],
   "source": [
    "y_test_pred = model.predict(X_test)\n",
    "mean_squared_error(y_test, y_test_pred)\n",
    "r2_score(y_test, y_test_pred)"
   ]
  },
  {
   "cell_type": "code",
   "execution_count": 303,
   "id": "e2098ec6",
   "metadata": {},
   "outputs": [
    {
     "data": {
      "text/plain": [
       "118.23593609299078"
      ]
     },
     "execution_count": 303,
     "metadata": {},
     "output_type": "execute_result"
    },
    {
     "data": {
      "text/plain": [
       "array([136.91693301,  37.34948367])"
      ]
     },
     "execution_count": 303,
     "metadata": {},
     "output_type": "execute_result"
    }
   ],
   "source": [
    "model.intercept_\n",
    "model.coef_"
   ]
  },
  {
   "cell_type": "code",
   "execution_count": 252,
   "id": "06a67a05",
   "metadata": {},
   "outputs": [],
   "source": [
    "df = pd.read_csv('MyDataFilmsScaled.csv')\n",
    "df.head()\n",
    "# split the actors column by '-'\n",
    "actors = df['credits'].str.split('-', expand=True)\n",
    "\n",
    "# Create a new dataframe with the revenue column and actor columns\n",
    "new_df = pd.concat([df[\"revenue\"], actors], axis=1)\n",
    "\n",
    "# Iterate over each actor column and create a new column with 1s and 0s based on if the actor is in the column\n",
    "for actor_col in actors.columns:\n",
    "    new_df[actor_col] = new_df.apply(lambda row: int(actor_col in row.values), axis=1)\n",
    "\n",
    "    # Create X and y matrices for linear regression\n",
    "X = new_df.drop(columns=[\"revenue\"])\n",
    "y = new_df[\"revenue\"]\n",
    "\n",
    "# Train linear regression model\n",
    "model = LinearRegression()\n",
    "model.fit(X, y)\n",
    "\n",
    "# Get coefficients for each actor\n",
    "actor_coefficients = list(zip(X.columns, model.coef_))\n",
    "\n",
    "# Sort actor coefficients by value and get top 50 actors with largest coefficients\n",
    "top_actors = sorted(actor_coefficients, key=lambda x: abs(x[1]), reverse=True)[:50]\n",
    "\n",
    "# Print top 50 actors with largest coefficients\n",
    "print(\"Top 50 actors with largest coefficients:\")\n",
    "for actor, coefficient in top_actors:\n",
    "    print(actor, coefficient)\n",
    "\n",
    "I want it to print me name of the actors instead of the numerical values that I got following this code"
   ]
  },
  {
   "cell_type": "code",
   "execution_count": null,
   "id": "f738deb7",
   "metadata": {},
   "outputs": [],
   "source": []
  }
 ],
 "metadata": {
  "kernelspec": {
   "display_name": "Python 3 (ipykernel)",
   "language": "python",
   "name": "python3"
  },
  "language_info": {
   "codemirror_mode": {
    "name": "ipython",
    "version": 3
   },
   "file_extension": ".py",
   "mimetype": "text/x-python",
   "name": "python",
   "nbconvert_exporter": "python",
   "pygments_lexer": "ipython3",
   "version": "3.9.7"
  }
 },
 "nbformat": 4,
 "nbformat_minor": 5
}
