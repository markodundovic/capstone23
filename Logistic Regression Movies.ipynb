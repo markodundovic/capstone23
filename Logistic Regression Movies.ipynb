{
 "cells": [
  {
   "cell_type": "code",
   "execution_count": 1,
   "id": "82496d01",
   "metadata": {},
   "outputs": [],
   "source": [
    "import numpy as np\n",
    "import pandas as pd\n",
    "import statsmodels.api as sm\n",
    "import statsmodels.formula.api as smf\n",
    "import matplotlib.pyplot as plt\n",
    "from sklearn.preprocessing import StandardScaler\n",
    "from sklearn.linear_model import LinearRegression, SGDClassifier\n",
    "from sklearn.linear_model import LogisticRegression\n",
    "\n",
    "import sklearn.linear_model as skl_lm\n",
    "from sklearn.metrics import mean_squared_error\n",
    "from sklearn.model_selection import train_test_split, LeaveOneOut, KFold, cross_val_score\n",
    "from sklearn.preprocessing import PolynomialFeatures\n",
    "from sklearn.metrics import confusion_matrix, classification_report, precision_score, roc_curve, roc_auc_score, accuracy_score\n",
    "from sklearn.metrics import mean_squared_error, r2_score\n",
    "\n",
    "import statsmodels.api as sm\n",
    "import statsmodels.formula.api as smf\n",
    "\n",
    "from sklearn.feature_extraction.text import TfidfVectorizer\n",
    "from sklearn.linear_model import LogisticRegression\n",
    "from sklearn.model_selection import train_test_split, cross_val_score\n",
    "\n",
    "\n",
    "from PIL import Image  #Python Image Library\n",
    "#from pillow import Image\n",
    "import h5py\n",
    "import scipy\n",
    "from scipy import ndimage\n",
    "\n",
    "import seaborn as sns\n",
    "\n",
    "\n",
    "from IPython.core.interactiveshell import InteractiveShell\n",
    "InteractiveShell.ast_node_interactivity = 'all'"
   ]
  },
  {
   "cell_type": "code",
   "execution_count": 3,
   "id": "886f41f9",
   "metadata": {},
   "outputs": [],
   "source": [
    "df = pd.read_csv('MyDataFilmsScaled.csv')"
   ]
  },
  {
   "cell_type": "code",
   "execution_count": 4,
   "id": "e1598fc3",
   "metadata": {},
   "outputs": [
    {
     "data": {
      "text/html": [
       "<div>\n",
       "<style scoped>\n",
       "    .dataframe tbody tr th:only-of-type {\n",
       "        vertical-align: middle;\n",
       "    }\n",
       "\n",
       "    .dataframe tbody tr th {\n",
       "        vertical-align: top;\n",
       "    }\n",
       "\n",
       "    .dataframe thead th {\n",
       "        text-align: right;\n",
       "    }\n",
       "</style>\n",
       "<table border=\"1\" class=\"dataframe\">\n",
       "  <thead>\n",
       "    <tr style=\"text-align: right;\">\n",
       "      <th></th>\n",
       "      <th>id</th>\n",
       "      <th>title</th>\n",
       "      <th>genres</th>\n",
       "      <th>original_language</th>\n",
       "      <th>overview</th>\n",
       "      <th>popularity</th>\n",
       "      <th>production_companies</th>\n",
       "      <th>release_date</th>\n",
       "      <th>budget</th>\n",
       "      <th>revenue</th>\n",
       "      <th>runtime</th>\n",
       "      <th>status</th>\n",
       "      <th>vote_average</th>\n",
       "      <th>vote_count</th>\n",
       "      <th>credits</th>\n",
       "      <th>language</th>\n",
       "    </tr>\n",
       "  </thead>\n",
       "  <tbody>\n",
       "    <tr>\n",
       "      <th>0</th>\n",
       "      <td>15660</td>\n",
       "      <td>Mommie Dearest</td>\n",
       "      <td>Drama</td>\n",
       "      <td>en</td>\n",
       "      <td>Renowned actress Joan Crawford at the height o...</td>\n",
       "      <td>10.589</td>\n",
       "      <td>Paramount-The Irwin Yablans Company</td>\n",
       "      <td>1981-09-18</td>\n",
       "      <td>19.032261</td>\n",
       "      <td>5.0</td>\n",
       "      <td>128.0</td>\n",
       "      <td>Released</td>\n",
       "      <td>6.400</td>\n",
       "      <td>166.0</td>\n",
       "      <td>Faye Dunaway-Diana Scarwid-Steve Forrest-Howar...</td>\n",
       "      <td>1</td>\n",
       "    </tr>\n",
       "    <tr>\n",
       "      <th>1</th>\n",
       "      <td>230266</td>\n",
       "      <td>Miss Julie</td>\n",
       "      <td>Drama</td>\n",
       "      <td>en</td>\n",
       "      <td>Over the course of a midsummer night in Ferman...</td>\n",
       "      <td>8.633</td>\n",
       "      <td>Maipo Film-The Apocalypse Films</td>\n",
       "      <td>2014-09-07</td>\n",
       "      <td>5.500000</td>\n",
       "      <td>5.0</td>\n",
       "      <td>130.0</td>\n",
       "      <td>Released</td>\n",
       "      <td>5.700</td>\n",
       "      <td>123.0</td>\n",
       "      <td>Jessica Chastain-Colin Farrell-Samantha Morton...</td>\n",
       "      <td>1</td>\n",
       "    </tr>\n",
       "    <tr>\n",
       "      <th>2</th>\n",
       "      <td>9322</td>\n",
       "      <td>La Femme Nikita</td>\n",
       "      <td>Action-Thriller</td>\n",
       "      <td>fr</td>\n",
       "      <td>A beautiful felon sentenced to life in prison ...</td>\n",
       "      <td>19.647</td>\n",
       "      <td>Gaumont-Cecchi Gori Group Tiger Cinematografic...</td>\n",
       "      <td>1990-02-21</td>\n",
       "      <td>8.538703</td>\n",
       "      <td>5.0</td>\n",
       "      <td>117.0</td>\n",
       "      <td>Released</td>\n",
       "      <td>7.100</td>\n",
       "      <td>1636.0</td>\n",
       "      <td>Anne Parillaud-Jean-Hugues Anglade-Tchéky Kary...</td>\n",
       "      <td>0</td>\n",
       "    </tr>\n",
       "    <tr>\n",
       "      <th>3</th>\n",
       "      <td>592336</td>\n",
       "      <td>Don't Stop Me Now</td>\n",
       "      <td>Comedy</td>\n",
       "      <td>it</td>\n",
       "      <td>Paola a modern woman used to the hardships of ...</td>\n",
       "      <td>8.115</td>\n",
       "      <td>Wildside-Vision Distribution</td>\n",
       "      <td>2019-04-18</td>\n",
       "      <td>8.000000</td>\n",
       "      <td>5.0</td>\n",
       "      <td>102.0</td>\n",
       "      <td>Released</td>\n",
       "      <td>6.346</td>\n",
       "      <td>331.0</td>\n",
       "      <td>Paola Cortellesi-Stefano Fresi-Vinicio Marchio...</td>\n",
       "      <td>0</td>\n",
       "    </tr>\n",
       "    <tr>\n",
       "      <th>4</th>\n",
       "      <td>8747</td>\n",
       "      <td>The Black Balloon</td>\n",
       "      <td>Drama</td>\n",
       "      <td>en</td>\n",
       "      <td>Thomas is turning 16. His dad's in the army an...</td>\n",
       "      <td>7.272</td>\n",
       "      <td>Black Balloon Productions</td>\n",
       "      <td>2008-03-08</td>\n",
       "      <td>5.000000</td>\n",
       "      <td>5.0</td>\n",
       "      <td>97.0</td>\n",
       "      <td>Released</td>\n",
       "      <td>6.800</td>\n",
       "      <td>65.0</td>\n",
       "      <td>Toni Collette-Rhys Wakefield-Luke Ford-Gemma W...</td>\n",
       "      <td>1</td>\n",
       "    </tr>\n",
       "  </tbody>\n",
       "</table>\n",
       "</div>"
      ],
      "text/plain": [
       "       id              title           genres original_language  \\\n",
       "0   15660     Mommie Dearest            Drama                en   \n",
       "1  230266         Miss Julie            Drama                en   \n",
       "2    9322    La Femme Nikita  Action-Thriller                fr   \n",
       "3  592336  Don't Stop Me Now           Comedy                it   \n",
       "4    8747  The Black Balloon            Drama                en   \n",
       "\n",
       "                                            overview  popularity  \\\n",
       "0  Renowned actress Joan Crawford at the height o...      10.589   \n",
       "1  Over the course of a midsummer night in Ferman...       8.633   \n",
       "2  A beautiful felon sentenced to life in prison ...      19.647   \n",
       "3  Paola a modern woman used to the hardships of ...       8.115   \n",
       "4  Thomas is turning 16. His dad's in the army an...       7.272   \n",
       "\n",
       "                                production_companies release_date     budget  \\\n",
       "0                Paramount-The Irwin Yablans Company   1981-09-18  19.032261   \n",
       "1                    Maipo Film-The Apocalypse Films   2014-09-07   5.500000   \n",
       "2  Gaumont-Cecchi Gori Group Tiger Cinematografic...   1990-02-21   8.538703   \n",
       "3                       Wildside-Vision Distribution   2019-04-18   8.000000   \n",
       "4                          Black Balloon Productions   2008-03-08   5.000000   \n",
       "\n",
       "   revenue  runtime    status  vote_average  vote_count  \\\n",
       "0      5.0    128.0  Released         6.400       166.0   \n",
       "1      5.0    130.0  Released         5.700       123.0   \n",
       "2      5.0    117.0  Released         7.100      1636.0   \n",
       "3      5.0    102.0  Released         6.346       331.0   \n",
       "4      5.0     97.0  Released         6.800        65.0   \n",
       "\n",
       "                                             credits  language  \n",
       "0  Faye Dunaway-Diana Scarwid-Steve Forrest-Howar...         1  \n",
       "1  Jessica Chastain-Colin Farrell-Samantha Morton...         1  \n",
       "2  Anne Parillaud-Jean-Hugues Anglade-Tchéky Kary...         0  \n",
       "3  Paola Cortellesi-Stefano Fresi-Vinicio Marchio...         0  \n",
       "4  Toni Collette-Rhys Wakefield-Luke Ford-Gemma W...         1  "
      ]
     },
     "execution_count": 4,
     "metadata": {},
     "output_type": "execute_result"
    }
   ],
   "source": [
    "df.head()"
   ]
  },
  {
   "cell_type": "code",
   "execution_count": 5,
   "id": "d2dd8ac0",
   "metadata": {},
   "outputs": [
    {
     "data": {
      "text/plain": [
       "'0.24.2'"
      ]
     },
     "execution_count": 5,
     "metadata": {},
     "output_type": "execute_result"
    }
   ],
   "source": [
    "import sklearn\n",
    "sklearn.__version__"
   ]
  },
  {
   "cell_type": "code",
   "execution_count": 6,
   "id": "e9d3110a",
   "metadata": {},
   "outputs": [
    {
     "name": "stdout",
     "output_type": "stream",
     "text": [
      "<class 'pandas.core.frame.DataFrame'>\n",
      "RangeIndex: 5117 entries, 0 to 5116\n",
      "Data columns (total 16 columns):\n",
      " #   Column                Non-Null Count  Dtype  \n",
      "---  ------                --------------  -----  \n",
      " 0   id                    5117 non-null   int64  \n",
      " 1   title                 5117 non-null   object \n",
      " 2   genres                5117 non-null   object \n",
      " 3   original_language     5117 non-null   object \n",
      " 4   overview              5116 non-null   object \n",
      " 5   popularity            5117 non-null   float64\n",
      " 6   production_companies  5117 non-null   object \n",
      " 7   release_date          5117 non-null   object \n",
      " 8   budget                5117 non-null   float64\n",
      " 9   revenue               5117 non-null   float64\n",
      " 10  runtime               5117 non-null   float64\n",
      " 11  status                5117 non-null   object \n",
      " 12  vote_average          5117 non-null   float64\n",
      " 13  vote_count            5117 non-null   float64\n",
      " 14  credits               5117 non-null   object \n",
      " 15  language              5117 non-null   int64  \n",
      "dtypes: float64(6), int64(2), object(8)\n",
      "memory usage: 639.8+ KB\n"
     ]
    }
   ],
   "source": [
    "df.info()"
   ]
  },
  {
   "cell_type": "code",
   "execution_count": 16,
   "id": "cc3c614f",
   "metadata": {},
   "outputs": [
    {
     "data": {
      "text/html": [
       "<div>\n",
       "<style scoped>\n",
       "    .dataframe tbody tr th:only-of-type {\n",
       "        vertical-align: middle;\n",
       "    }\n",
       "\n",
       "    .dataframe tbody tr th {\n",
       "        vertical-align: top;\n",
       "    }\n",
       "\n",
       "    .dataframe thead th {\n",
       "        text-align: right;\n",
       "    }\n",
       "</style>\n",
       "<table border=\"1\" class=\"dataframe\">\n",
       "  <thead>\n",
       "    <tr style=\"text-align: right;\">\n",
       "      <th></th>\n",
       "      <th>id</th>\n",
       "      <th>title</th>\n",
       "      <th>genres</th>\n",
       "      <th>original_language</th>\n",
       "      <th>overview</th>\n",
       "      <th>popularity</th>\n",
       "      <th>production_companies</th>\n",
       "      <th>release_date</th>\n",
       "      <th>budget</th>\n",
       "      <th>revenue</th>\n",
       "      <th>runtime</th>\n",
       "      <th>status</th>\n",
       "      <th>vote_average</th>\n",
       "      <th>vote_count</th>\n",
       "      <th>credits</th>\n",
       "      <th>language</th>\n",
       "      <th>is_profitable</th>\n",
       "    </tr>\n",
       "  </thead>\n",
       "  <tbody>\n",
       "    <tr>\n",
       "      <th>0</th>\n",
       "      <td>15660</td>\n",
       "      <td>Mommie Dearest</td>\n",
       "      <td>Drama</td>\n",
       "      <td>en</td>\n",
       "      <td>Renowned actress Joan Crawford at the height o...</td>\n",
       "      <td>10.589</td>\n",
       "      <td>Paramount-The Irwin Yablans Company</td>\n",
       "      <td>1981-09-18</td>\n",
       "      <td>19.032261</td>\n",
       "      <td>5.0</td>\n",
       "      <td>128.0</td>\n",
       "      <td>Released</td>\n",
       "      <td>6.400</td>\n",
       "      <td>166.0</td>\n",
       "      <td>Faye Dunaway-Diana Scarwid-Steve Forrest-Howar...</td>\n",
       "      <td>1</td>\n",
       "      <td>0</td>\n",
       "    </tr>\n",
       "    <tr>\n",
       "      <th>1</th>\n",
       "      <td>230266</td>\n",
       "      <td>Miss Julie</td>\n",
       "      <td>Drama</td>\n",
       "      <td>en</td>\n",
       "      <td>Over the course of a midsummer night in Ferman...</td>\n",
       "      <td>8.633</td>\n",
       "      <td>Maipo Film-The Apocalypse Films</td>\n",
       "      <td>2014-09-07</td>\n",
       "      <td>5.500000</td>\n",
       "      <td>5.0</td>\n",
       "      <td>130.0</td>\n",
       "      <td>Released</td>\n",
       "      <td>5.700</td>\n",
       "      <td>123.0</td>\n",
       "      <td>Jessica Chastain-Colin Farrell-Samantha Morton...</td>\n",
       "      <td>1</td>\n",
       "      <td>0</td>\n",
       "    </tr>\n",
       "    <tr>\n",
       "      <th>2</th>\n",
       "      <td>9322</td>\n",
       "      <td>La Femme Nikita</td>\n",
       "      <td>Action-Thriller</td>\n",
       "      <td>fr</td>\n",
       "      <td>A beautiful felon sentenced to life in prison ...</td>\n",
       "      <td>19.647</td>\n",
       "      <td>Gaumont-Cecchi Gori Group Tiger Cinematografic...</td>\n",
       "      <td>1990-02-21</td>\n",
       "      <td>8.538703</td>\n",
       "      <td>5.0</td>\n",
       "      <td>117.0</td>\n",
       "      <td>Released</td>\n",
       "      <td>7.100</td>\n",
       "      <td>1636.0</td>\n",
       "      <td>Anne Parillaud-Jean-Hugues Anglade-Tchéky Kary...</td>\n",
       "      <td>0</td>\n",
       "      <td>0</td>\n",
       "    </tr>\n",
       "    <tr>\n",
       "      <th>3</th>\n",
       "      <td>592336</td>\n",
       "      <td>Don't Stop Me Now</td>\n",
       "      <td>Comedy</td>\n",
       "      <td>it</td>\n",
       "      <td>Paola a modern woman used to the hardships of ...</td>\n",
       "      <td>8.115</td>\n",
       "      <td>Wildside-Vision Distribution</td>\n",
       "      <td>2019-04-18</td>\n",
       "      <td>8.000000</td>\n",
       "      <td>5.0</td>\n",
       "      <td>102.0</td>\n",
       "      <td>Released</td>\n",
       "      <td>6.346</td>\n",
       "      <td>331.0</td>\n",
       "      <td>Paola Cortellesi-Stefano Fresi-Vinicio Marchio...</td>\n",
       "      <td>0</td>\n",
       "      <td>0</td>\n",
       "    </tr>\n",
       "    <tr>\n",
       "      <th>4</th>\n",
       "      <td>8747</td>\n",
       "      <td>The Black Balloon</td>\n",
       "      <td>Drama</td>\n",
       "      <td>en</td>\n",
       "      <td>Thomas is turning 16. His dad's in the army an...</td>\n",
       "      <td>7.272</td>\n",
       "      <td>Black Balloon Productions</td>\n",
       "      <td>2008-03-08</td>\n",
       "      <td>5.000000</td>\n",
       "      <td>5.0</td>\n",
       "      <td>97.0</td>\n",
       "      <td>Released</td>\n",
       "      <td>6.800</td>\n",
       "      <td>65.0</td>\n",
       "      <td>Toni Collette-Rhys Wakefield-Luke Ford-Gemma W...</td>\n",
       "      <td>1</td>\n",
       "      <td>0</td>\n",
       "    </tr>\n",
       "  </tbody>\n",
       "</table>\n",
       "</div>"
      ],
      "text/plain": [
       "       id              title           genres original_language  \\\n",
       "0   15660     Mommie Dearest            Drama                en   \n",
       "1  230266         Miss Julie            Drama                en   \n",
       "2    9322    La Femme Nikita  Action-Thriller                fr   \n",
       "3  592336  Don't Stop Me Now           Comedy                it   \n",
       "4    8747  The Black Balloon            Drama                en   \n",
       "\n",
       "                                            overview  popularity  \\\n",
       "0  Renowned actress Joan Crawford at the height o...      10.589   \n",
       "1  Over the course of a midsummer night in Ferman...       8.633   \n",
       "2  A beautiful felon sentenced to life in prison ...      19.647   \n",
       "3  Paola a modern woman used to the hardships of ...       8.115   \n",
       "4  Thomas is turning 16. His dad's in the army an...       7.272   \n",
       "\n",
       "                                production_companies release_date     budget  \\\n",
       "0                Paramount-The Irwin Yablans Company   1981-09-18  19.032261   \n",
       "1                    Maipo Film-The Apocalypse Films   2014-09-07   5.500000   \n",
       "2  Gaumont-Cecchi Gori Group Tiger Cinematografic...   1990-02-21   8.538703   \n",
       "3                       Wildside-Vision Distribution   2019-04-18   8.000000   \n",
       "4                          Black Balloon Productions   2008-03-08   5.000000   \n",
       "\n",
       "   revenue  runtime    status  vote_average  vote_count  \\\n",
       "0      5.0    128.0  Released         6.400       166.0   \n",
       "1      5.0    130.0  Released         5.700       123.0   \n",
       "2      5.0    117.0  Released         7.100      1636.0   \n",
       "3      5.0    102.0  Released         6.346       331.0   \n",
       "4      5.0     97.0  Released         6.800        65.0   \n",
       "\n",
       "                                             credits  language  is_profitable  \n",
       "0  Faye Dunaway-Diana Scarwid-Steve Forrest-Howar...         1              0  \n",
       "1  Jessica Chastain-Colin Farrell-Samantha Morton...         1              0  \n",
       "2  Anne Parillaud-Jean-Hugues Anglade-Tchéky Kary...         0              0  \n",
       "3  Paola Cortellesi-Stefano Fresi-Vinicio Marchio...         0              0  \n",
       "4  Toni Collette-Rhys Wakefield-Luke Ford-Gemma W...         1              0  "
      ]
     },
     "execution_count": 16,
     "metadata": {},
     "output_type": "execute_result"
    }
   ],
   "source": [
    "df.head()\n",
    "df = df.sort_values('budget')"
   ]
  },
  {
   "cell_type": "code",
   "execution_count": 22,
   "id": "ed1bc86b",
   "metadata": {},
   "outputs": [],
   "source": [
    "def is_profitable(row):\n",
    "    if row['revenue'] > row['budget']*1.3:\n",
    "        return 1\n",
    "    else:\n",
    "        return 0"
   ]
  },
  {
   "cell_type": "code",
   "execution_count": 23,
   "id": "f2329a7b",
   "metadata": {},
   "outputs": [],
   "source": [
    "df['is_profitable'] = df.apply(is_profitable, axis=1)"
   ]
  },
  {
   "cell_type": "code",
   "execution_count": 24,
   "id": "96596d43",
   "metadata": {},
   "outputs": [
    {
     "data": {
      "text/html": [
       "<div>\n",
       "<style scoped>\n",
       "    .dataframe tbody tr th:only-of-type {\n",
       "        vertical-align: middle;\n",
       "    }\n",
       "\n",
       "    .dataframe tbody tr th {\n",
       "        vertical-align: top;\n",
       "    }\n",
       "\n",
       "    .dataframe thead th {\n",
       "        text-align: right;\n",
       "    }\n",
       "</style>\n",
       "<table border=\"1\" class=\"dataframe\">\n",
       "  <thead>\n",
       "    <tr style=\"text-align: right;\">\n",
       "      <th></th>\n",
       "      <th>id</th>\n",
       "      <th>title</th>\n",
       "      <th>genres</th>\n",
       "      <th>original_language</th>\n",
       "      <th>overview</th>\n",
       "      <th>popularity</th>\n",
       "      <th>production_companies</th>\n",
       "      <th>release_date</th>\n",
       "      <th>budget</th>\n",
       "      <th>revenue</th>\n",
       "      <th>runtime</th>\n",
       "      <th>status</th>\n",
       "      <th>vote_average</th>\n",
       "      <th>vote_count</th>\n",
       "      <th>credits</th>\n",
       "      <th>language</th>\n",
       "      <th>is_profitable</th>\n",
       "    </tr>\n",
       "  </thead>\n",
       "  <tbody>\n",
       "    <tr>\n",
       "      <th>676</th>\n",
       "      <td>144789</td>\n",
       "      <td>I'm So Excited!</td>\n",
       "      <td>Comedy</td>\n",
       "      <td>es</td>\n",
       "      <td>Something has gone wrong with the landing gear...</td>\n",
       "      <td>15.841</td>\n",
       "      <td>El Deseo</td>\n",
       "      <td>2013-03-08</td>\n",
       "      <td>5.0</td>\n",
       "      <td>11.724119</td>\n",
       "      <td>90.0</td>\n",
       "      <td>Released</td>\n",
       "      <td>5.800</td>\n",
       "      <td>604.0</td>\n",
       "      <td>Antonio Banderas-Penélope Cruz-Coté Soler-Anto...</td>\n",
       "      <td>0</td>\n",
       "      <td>1</td>\n",
       "    </tr>\n",
       "    <tr>\n",
       "      <th>2420</th>\n",
       "      <td>157547</td>\n",
       "      <td>Oculus</td>\n",
       "      <td>Horror</td>\n",
       "      <td>en</td>\n",
       "      <td>A woman tries to exonerate her brother's murde...</td>\n",
       "      <td>16.874</td>\n",
       "      <td>Intrepid Pictures-Blumhouse Productions-WWE St...</td>\n",
       "      <td>2013-09-08</td>\n",
       "      <td>5.0</td>\n",
       "      <td>44.459951</td>\n",
       "      <td>104.0</td>\n",
       "      <td>Released</td>\n",
       "      <td>6.400</td>\n",
       "      <td>2604.0</td>\n",
       "      <td>Karen Gillan-Brenton Thwaites-Katee Sackhoff-R...</td>\n",
       "      <td>1</td>\n",
       "      <td>1</td>\n",
       "    </tr>\n",
       "    <tr>\n",
       "      <th>208</th>\n",
       "      <td>26263</td>\n",
       "      <td>Death Wish 4: The Crackdown</td>\n",
       "      <td>Action-Crime-Drama</td>\n",
       "      <td>en</td>\n",
       "      <td>After the death of his girlfriend's daughter f...</td>\n",
       "      <td>16.499</td>\n",
       "      <td>Cannon Group-Golan-Globus Productions</td>\n",
       "      <td>1987-06-11</td>\n",
       "      <td>5.0</td>\n",
       "      <td>6.880310</td>\n",
       "      <td>99.0</td>\n",
       "      <td>Released</td>\n",
       "      <td>5.700</td>\n",
       "      <td>229.0</td>\n",
       "      <td>Charles Bronson-Kay Lenz-John P. Ryan-Perry Lo...</td>\n",
       "      <td>1</td>\n",
       "      <td>1</td>\n",
       "    </tr>\n",
       "    <tr>\n",
       "      <th>1662</th>\n",
       "      <td>1955</td>\n",
       "      <td>The Elephant Man</td>\n",
       "      <td>Drama-History</td>\n",
       "      <td>en</td>\n",
       "      <td>A Victorian surgeon rescues a heavily disfigur...</td>\n",
       "      <td>16.962</td>\n",
       "      <td>Paramount-Brooksfilms</td>\n",
       "      <td>1980-10-09</td>\n",
       "      <td>5.0</td>\n",
       "      <td>26.010864</td>\n",
       "      <td>124.0</td>\n",
       "      <td>Released</td>\n",
       "      <td>8.100</td>\n",
       "      <td>2932.0</td>\n",
       "      <td>Anthony Hopkins-John Hurt-Anne Bancroft-John G...</td>\n",
       "      <td>1</td>\n",
       "      <td>1</td>\n",
       "    </tr>\n",
       "    <tr>\n",
       "      <th>769</th>\n",
       "      <td>171424</td>\n",
       "      <td>The Green Inferno</td>\n",
       "      <td>Horror-Thriller-Adventure</td>\n",
       "      <td>en</td>\n",
       "      <td>A group of student activists travel from New Y...</td>\n",
       "      <td>21.348</td>\n",
       "      <td>Worldview Entertainment-Dragonfly Entertainmen...</td>\n",
       "      <td>2013-09-08</td>\n",
       "      <td>5.0</td>\n",
       "      <td>12.666449</td>\n",
       "      <td>100.0</td>\n",
       "      <td>Released</td>\n",
       "      <td>5.655</td>\n",
       "      <td>1174.0</td>\n",
       "      <td>Lorenza Izzo-Ariel Levy-Sky Ferreira-Ramón Lla...</td>\n",
       "      <td>1</td>\n",
       "      <td>1</td>\n",
       "    </tr>\n",
       "  </tbody>\n",
       "</table>\n",
       "</div>"
      ],
      "text/plain": [
       "          id                        title                     genres  \\\n",
       "676   144789              I'm So Excited!                     Comedy   \n",
       "2420  157547                       Oculus                     Horror   \n",
       "208    26263  Death Wish 4: The Crackdown         Action-Crime-Drama   \n",
       "1662    1955             The Elephant Man              Drama-History   \n",
       "769   171424            The Green Inferno  Horror-Thriller-Adventure   \n",
       "\n",
       "     original_language                                           overview  \\\n",
       "676                 es  Something has gone wrong with the landing gear...   \n",
       "2420                en  A woman tries to exonerate her brother's murde...   \n",
       "208                 en  After the death of his girlfriend's daughter f...   \n",
       "1662                en  A Victorian surgeon rescues a heavily disfigur...   \n",
       "769                 en  A group of student activists travel from New Y...   \n",
       "\n",
       "      popularity                               production_companies  \\\n",
       "676       15.841                                           El Deseo   \n",
       "2420      16.874  Intrepid Pictures-Blumhouse Productions-WWE St...   \n",
       "208       16.499              Cannon Group-Golan-Globus Productions   \n",
       "1662      16.962                              Paramount-Brooksfilms   \n",
       "769       21.348  Worldview Entertainment-Dragonfly Entertainmen...   \n",
       "\n",
       "     release_date  budget    revenue  runtime    status  vote_average  \\\n",
       "676    2013-03-08     5.0  11.724119     90.0  Released         5.800   \n",
       "2420   2013-09-08     5.0  44.459951    104.0  Released         6.400   \n",
       "208    1987-06-11     5.0   6.880310     99.0  Released         5.700   \n",
       "1662   1980-10-09     5.0  26.010864    124.0  Released         8.100   \n",
       "769    2013-09-08     5.0  12.666449    100.0  Released         5.655   \n",
       "\n",
       "      vote_count                                            credits  language  \\\n",
       "676        604.0  Antonio Banderas-Penélope Cruz-Coté Soler-Anto...         0   \n",
       "2420      2604.0  Karen Gillan-Brenton Thwaites-Katee Sackhoff-R...         1   \n",
       "208        229.0  Charles Bronson-Kay Lenz-John P. Ryan-Perry Lo...         1   \n",
       "1662      2932.0  Anthony Hopkins-John Hurt-Anne Bancroft-John G...         1   \n",
       "769       1174.0  Lorenza Izzo-Ariel Levy-Sky Ferreira-Ramón Lla...         1   \n",
       "\n",
       "      is_profitable  \n",
       "676               1  \n",
       "2420              1  \n",
       "208               1  \n",
       "1662              1  \n",
       "769               1  "
      ]
     },
     "execution_count": 24,
     "metadata": {},
     "output_type": "execute_result"
    }
   ],
   "source": [
    "df.head()"
   ]
  },
  {
   "cell_type": "code",
   "execution_count": 25,
   "id": "d6f7d2e2",
   "metadata": {},
   "outputs": [
    {
     "data": {
      "text/plain": [
       "1    3491\n",
       "0    1626\n",
       "Name: is_profitable, dtype: int64"
      ]
     },
     "execution_count": 25,
     "metadata": {},
     "output_type": "execute_result"
    }
   ],
   "source": [
    "df['is_profitable'].value_counts()"
   ]
  },
  {
   "cell_type": "code",
   "execution_count": 26,
   "id": "c747929a",
   "metadata": {},
   "outputs": [],
   "source": [
    "X = df[['budget', 'revenue']]\n",
    "y = df['is_profitable']"
   ]
  },
  {
   "cell_type": "code",
   "execution_count": 27,
   "id": "e2b7936d",
   "metadata": {},
   "outputs": [
    {
     "data": {
      "text/html": [
       "<div>\n",
       "<style scoped>\n",
       "    .dataframe tbody tr th:only-of-type {\n",
       "        vertical-align: middle;\n",
       "    }\n",
       "\n",
       "    .dataframe tbody tr th {\n",
       "        vertical-align: top;\n",
       "    }\n",
       "\n",
       "    .dataframe thead th {\n",
       "        text-align: right;\n",
       "    }\n",
       "</style>\n",
       "<table border=\"1\" class=\"dataframe\">\n",
       "  <thead>\n",
       "    <tr style=\"text-align: right;\">\n",
       "      <th></th>\n",
       "      <th>budget</th>\n",
       "      <th>revenue</th>\n",
       "    </tr>\n",
       "  </thead>\n",
       "  <tbody>\n",
       "    <tr>\n",
       "      <th>676</th>\n",
       "      <td>5.0</td>\n",
       "      <td>11.724119</td>\n",
       "    </tr>\n",
       "    <tr>\n",
       "      <th>2420</th>\n",
       "      <td>5.0</td>\n",
       "      <td>44.459951</td>\n",
       "    </tr>\n",
       "    <tr>\n",
       "      <th>208</th>\n",
       "      <td>5.0</td>\n",
       "      <td>6.880310</td>\n",
       "    </tr>\n",
       "    <tr>\n",
       "      <th>1662</th>\n",
       "      <td>5.0</td>\n",
       "      <td>26.010864</td>\n",
       "    </tr>\n",
       "    <tr>\n",
       "      <th>769</th>\n",
       "      <td>5.0</td>\n",
       "      <td>12.666449</td>\n",
       "    </tr>\n",
       "  </tbody>\n",
       "</table>\n",
       "</div>"
      ],
      "text/plain": [
       "      budget    revenue\n",
       "676      5.0  11.724119\n",
       "2420     5.0  44.459951\n",
       "208      5.0   6.880310\n",
       "1662     5.0  26.010864\n",
       "769      5.0  12.666449"
      ]
     },
     "execution_count": 27,
     "metadata": {},
     "output_type": "execute_result"
    },
    {
     "data": {
      "text/plain": [
       "676     1\n",
       "2420    1\n",
       "208     1\n",
       "1662    1\n",
       "769     1\n",
       "Name: is_profitable, dtype: int64"
      ]
     },
     "execution_count": 27,
     "metadata": {},
     "output_type": "execute_result"
    }
   ],
   "source": [
    "X.head()\n",
    "y.head()"
   ]
  },
  {
   "cell_type": "markdown",
   "id": "bc95b6fc",
   "metadata": {},
   "source": [
    "## data visualization"
   ]
  },
  {
   "cell_type": "code",
   "execution_count": 31,
   "id": "aecd13ed",
   "metadata": {},
   "outputs": [],
   "source": [
    "mask = y==1"
   ]
  },
  {
   "cell_type": "code",
   "execution_count": 32,
   "id": "d3402837",
   "metadata": {},
   "outputs": [
    {
     "data": {
      "text/plain": [
       "Text(0.5, 0, 'Budget')"
      ]
     },
     "execution_count": 32,
     "metadata": {},
     "output_type": "execute_result"
    },
    {
     "data": {
      "text/plain": [
       "Text(0, 0.5, 'Revenue')"
      ]
     },
     "execution_count": 32,
     "metadata": {},
     "output_type": "execute_result"
    },
    {
     "data": {
      "text/plain": [
       "<matplotlib.legend.Legend at 0x1697c646b20>"
      ]
     },
     "execution_count": 32,
     "metadata": {},
     "output_type": "execute_result"
    },
    {
     "data": {
      "image/png": "[encoded data removed]",
      "text/plain": [
       "<Figure size 432x288 with 1 Axes>"
      ]
     },
     "metadata": {
      "needs_background": "light"
     },
     "output_type": "display_data"
    }
   ],
   "source": [
    "adm = plt.scatter(X[mask]['budget'].values, X[mask]['revenue'].values)\n",
    "not_adm = plt.scatter(X[~mask]['budget'].values, X[~mask]['revenue'].values)\n",
    "plt.xlabel('Budget')\n",
    "plt.ylabel('Revenue')\n",
    "plt.legend((adm, not_adm), ('GoodProfit', 'Not Good'))\n",
    "plt.show()"
   ]
  },
  {
   "cell_type": "markdown",
   "id": "fb6e5f6c",
   "metadata": {},
   "source": [
    "### model"
   ]
  },
  {
   "cell_type": "code",
   "execution_count": 33,
   "id": "0aa5966e",
   "metadata": {},
   "outputs": [
    {
     "data": {
      "text/plain": [
       "LogisticRegression(penalty='none')"
      ]
     },
     "execution_count": 33,
     "metadata": {},
     "output_type": "execute_result"
    }
   ],
   "source": [
    "model = LogisticRegression(penalty = 'none')\n",
    "model"
   ]
  },
  {
   "cell_type": "code",
   "execution_count": 34,
   "id": "f6273897",
   "metadata": {},
   "outputs": [
    {
     "data": {
      "text/plain": [
       "LogisticRegression(penalty='none')"
      ]
     },
     "execution_count": 34,
     "metadata": {},
     "output_type": "execute_result"
    }
   ],
   "source": [
    "model.fit(X,y)"
   ]
  },
  {
   "cell_type": "code",
   "execution_count": 35,
   "id": "9ce7fb97",
   "metadata": {},
   "outputs": [
    {
     "data": {
      "text/plain": [
       "array([-117.0180899])"
      ]
     },
     "execution_count": 35,
     "metadata": {},
     "output_type": "execute_result"
    },
    {
     "data": {
      "text/plain": [
       "array([[-4986.92033342,  3840.12696864]])"
      ]
     },
     "execution_count": 35,
     "metadata": {},
     "output_type": "execute_result"
    }
   ],
   "source": [
    "model.intercept_\n",
    "model.coef_"
   ]
  },
  {
   "cell_type": "code",
   "execution_count": null,
   "id": "e138f8b1",
   "metadata": {},
   "outputs": [],
   "source": [
    "#p(admitted = 1) = 1/(1 + exp(-(-117.0180899 + -4986.92033342 * budget + 3840.12696864 * revenue)))"
   ]
  },
  {
   "cell_type": "code",
   "execution_count": 36,
   "id": "6d2ace8f",
   "metadata": {},
   "outputs": [],
   "source": [
    "y_pred = model.predict(X)"
   ]
  },
  {
   "cell_type": "code",
   "execution_count": 37,
   "id": "b49df448",
   "metadata": {},
   "outputs": [
    {
     "data": {
      "text/plain": [
       "1.0"
      ]
     },
     "execution_count": 37,
     "metadata": {},
     "output_type": "execute_result"
    }
   ],
   "source": [
    "accuracy_score(y, y_pred)"
   ]
  },
  {
   "cell_type": "code",
   "execution_count": 38,
   "id": "ff70a4eb",
   "metadata": {},
   "outputs": [
    {
     "data": {
      "text/plain": [
       "array([[1626,    0],\n",
       "       [   0, 3491]], dtype=int64)"
      ]
     },
     "execution_count": 38,
     "metadata": {},
     "output_type": "execute_result"
    }
   ],
   "source": [
    "confusion_matrix(y, y_pred)"
   ]
  },
  {
   "cell_type": "code",
   "execution_count": null,
   "id": "df7d1e0b",
   "metadata": {},
   "outputs": [],
   "source": []
  },
  {
   "cell_type": "code",
   "execution_count": null,
   "id": "be024c95",
   "metadata": {},
   "outputs": [],
   "source": []
  },
  {
   "cell_type": "code",
   "execution_count": null,
   "id": "9e4c7813",
   "metadata": {},
   "outputs": [],
   "source": []
  },
  {
   "cell_type": "code",
   "execution_count": null,
   "id": "c34c93d8",
   "metadata": {},
   "outputs": [],
   "source": []
  },
  {
   "cell_type": "code",
   "execution_count": null,
   "id": "cbff6d8e",
   "metadata": {},
   "outputs": [],
   "source": []
  }
 ],
 "metadata": {
  "kernelspec": {
   "display_name": "Python 3 (ipykernel)",
   "language": "python",
   "name": "python3"
  },
  "language_info": {
   "codemirror_mode": {
    "name": "ipython",
    "version": 3
   },
   "file_extension": ".py",
   "mimetype": "text/x-python",
   "name": "python",
   "nbconvert_exporter": "python",
   "pygments_lexer": "ipython3",
   "version": "3.9.7"
  }
 },
 "nbformat": 4,
 "nbformat_minor": 5
}
